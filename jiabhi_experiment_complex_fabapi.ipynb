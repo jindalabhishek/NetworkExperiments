{
 "cells": [
  {
   "cell_type": "code",
   "execution_count": 1,
   "id": "257377d9-f835-47ec-a322-a1a4048a616e",
   "metadata": {},
   "outputs": [],
   "source": [
    "import os\n",
    "\n",
    "# If you are using the FABRIC JupyterHub, the following three evnrionment vars\n",
    "# were automatically provided when you logged in.\n",
    "#os.environ['FABRIC_CREDMGR_HOST']='cm.fabric-testbed.net'\n",
    "#os.environ['FABRIC_ORCHESTRATOR_HOST']='orchestrator.fabric-testbed.net'\n",
    "#os.environ['FABRIC_TOKEN_LOCATION']=os.environ['HOME']+'/work/fabric_token.json'\n",
    "\n",
    "# Set your FABRIC PROJECT ID\n",
    "os.environ['FABRIC_PROJECT_ID']='6ce270de-788d-4e07-8bae-3206860a6387'\n",
    "\n",
    "# Bastion IPs\n",
    "os.environ['FABRIC_BASTION_HOST'] = 'bastion-1.fabric-testbed.net'\n",
    "\n",
    "# Set your Bastion username and private key\n",
    "os.environ['FABRIC_BASTION_USERNAME']='ajinda10_0051550143'\n",
    "os.environ['FABRIC_BASTION_KEY_LOCATION']=os.environ['HOME']+'/work/keys/jiabhi_bastion'\n",
    "\n",
    "# Set the keypair FABRIC will install in your slice. \n",
    "os.environ['FABRIC_SLICE_PRIVATE_KEY_NAME']=os.environ['HOME']+'/work/keys/jiabhi_sliver'\n",
    "os.environ['FABRIC_SLICE_PUBLIC_KEY_NAME']=os.environ['HOME']+'/work/keys/jiabhi_sliver.pub'\n",
    "os.environ['FABRIC_CONFIG_LOCATION']=os.environ['HOME']+'/work/keys/fabric-ssh-config'\n",
    "# If your slice private key uses a passphrase, set the passphrase\n",
    "#from getpass import getpass\n",
    "#print('Please input private key passphrase. Press enter for no passphrase.')\n",
    "#os.environ['FABRIC_SLICE_PRIVATE_KEY_PASSPHRASE']=getpass()"
   ]
  },
  {
   "cell_type": "code",
   "execution_count": 2,
   "id": "461c67ab-732f-40b8-97b4-58fd78c8e137",
   "metadata": {},
   "outputs": [],
   "source": [
    "import json\n",
    "import traceback\n",
    "from fabrictestbed_extensions.fablib.fablib import fablib\n",
    "from fabrictestbed.slice_editor import Capacities"
   ]
  },
  {
   "cell_type": "code",
   "execution_count": 3,
   "id": "5e46f950-5cdf-49dd-af50-4ca3bab67d00",
   "metadata": {},
   "outputs": [
    {
     "name": "stdout",
     "output_type": "stream",
     "text": [
      "<fabrictestbed_extensions.fablib.fablib.FablibManager object at 0x7f764836a370>\n"
     ]
    }
   ],
   "source": [
    "manager = fablib.get_default_fablib_manager()\n",
    "try:\n",
    "    print(f\"{manager}\")\n",
    "except Exception as e:\n",
    "    print(f\"Exception: {e}\")"
   ]
  },
  {
   "cell_type": "code",
   "execution_count": 4,
   "id": "f0738160-709b-499f-843a-4f4844cce38c",
   "metadata": {},
   "outputs": [
    {
     "name": "stdout",
     "output_type": "stream",
     "text": [
      "/home/fabric/work/jupyter-examples-rel1.3.3/fabric_examples\n"
     ]
    }
   ],
   "source": [
    "!cd /home/fabric/work/\n",
    "!pwd"
   ]
  },
  {
   "cell_type": "code",
   "execution_count": 5,
   "id": "6dd11e68-19c3-41e4-9648-430b84eb8ee3",
   "metadata": {},
   "outputs": [
    {
     "name": "stdout",
     "output_type": "stream",
     "text": [
      "Seed:\t1664436613\n",
      "0, 3\n",
      "Adding t-way interactions\n",
      "Went over 37 columns\n",
      "Finished constructing CS Matrix\n",
      "Original linear LA Score: 1332\n",
      "The matrix now has 1 rows\n",
      "Score after finalized row: 912\n",
      "The matrix now has 2 rows\n",
      "Score after finalized row: 612\n",
      "The matrix now has 3 rows\n",
      "Score after finalized row: 396\n",
      "The matrix now has 4 rows\n",
      "Score after finalized row: 276\n",
      "The matrix now has 5 rows\n",
      "Score after finalized row: 180\n",
      "The matrix now has 6 rows\n",
      "Score after finalized row: 108\n",
      "The matrix now has 7 rows\n",
      "Score after finalized row: 72\n",
      "The matrix now has 8 rows\n",
      "Score after finalized row: 54\n",
      "The matrix now has 9 rows\n",
      "Score after finalized row: 38\n",
      "The matrix now has 10 rows\n",
      "Score after finalized row: 28\n",
      "The matrix now has 11 rows\n",
      "Score after finalized row: 18\n",
      "The matrix now has 12 rows\n",
      "Score after finalized row: 12\n",
      "The matrix now has 13 rows\n",
      "Score after finalized row: 6\n",
      "The matrix now has 14 rows\n",
      "Score after finalized row: 2\n",
      "The matrix now has 15 rows\n",
      "Score after finalized row: 0\n",
      "Complete LA created with score: 0\n",
      "Rows: 15\n",
      "\n",
      "Other Stuff:\n",
      "Columns in CSMatrix: 37\n"
     ]
    }
   ],
   "source": [
    "la_generator_dir = '/home/fabric/work/v4-la-tools/'\n",
    "!$la_generator_dir/Search $la_generator_dir/LA/Jiabhi_Experiment_LA_Header-Copy1.tsv $la_generator_dir/FD/Jiabhi_Experiment_Factors.tsv fixla OUT.tsv"
   ]
  },
  {
   "cell_type": "code",
   "execution_count": 6,
   "id": "b5d9a11e-1dd0-424d-8d98-087166179168",
   "metadata": {},
   "outputs": [
    {
     "name": "stdout",
     "output_type": "stream",
     "text": [
      "tcp_version\n",
      "num_parallel_connections \n",
      "buffer_size\n",
      "['tcp_version', 'num_parallel_connections ', 'buffer_size']\n",
      "[[0, 1, 2], [2, 4, 6], [16, 32, 64]]\n"
     ]
    }
   ],
   "source": [
    "import csv\n",
    "factors_dir = la_generator_dir+'FD/'\n",
    "factors_tsv_file = open(factors_dir+'Jiabhi_Experiment_Factors-Copy1.tsv')\n",
    "read_tsv = csv.reader(factors_tsv_file, delimiter=\"\\t\")\n",
    "parameters=[]\n",
    "param_values=[]\n",
    "next(read_tsv)\n",
    "for row in read_tsv:\n",
    "    print(row[0])\n",
    "    parameters.append(row[0])\n",
    "    values = []\n",
    "    for val in row[3:]:\n",
    "        if val != '':\n",
    "            values.append(int(val))\n",
    "    param_values.append(values)\n",
    "print(parameters)\n",
    "print(param_values)"
   ]
  },
  {
   "cell_type": "code",
   "execution_count": 7,
   "id": "10d0b228-4478-4864-96ba-a1a02bcf2b12",
   "metadata": {},
   "outputs": [
    {
     "ename": "FileNotFoundError",
     "evalue": "[Errno 2] No such file or directory: '/home/fabric/work/v4-la-tools/FD/Jiabhi_Experiment_LA_Header-Copy1.tsv'",
     "output_type": "error",
     "traceback": [
      "\u001b[0;31m---------------------------------------------------------------------------\u001b[0m",
      "\u001b[0;31mFileNotFoundError\u001b[0m                         Traceback (most recent call last)",
      "\u001b[0;32m/tmp/ipykernel_55/2770510114.py\u001b[0m in \u001b[0;36m<module>\u001b[0;34m\u001b[0m\n\u001b[1;32m      1\u001b[0m \u001b[0mla_dir\u001b[0m \u001b[0;34m=\u001b[0m \u001b[0mla_generator_dir\u001b[0m\u001b[0;34m+\u001b[0m\u001b[0;34m'LA/'\u001b[0m\u001b[0;34m\u001b[0m\u001b[0;34m\u001b[0m\u001b[0m\n\u001b[0;32m----> 2\u001b[0;31m \u001b[0mfactors_tsv_file\u001b[0m \u001b[0;34m=\u001b[0m \u001b[0mopen\u001b[0m\u001b[0;34m(\u001b[0m\u001b[0mfactors_dir\u001b[0m\u001b[0;34m+\u001b[0m\u001b[0;34m'Jiabhi_Experiment_LA_Header-Copy1.tsv'\u001b[0m\u001b[0;34m)\u001b[0m\u001b[0;34m\u001b[0m\u001b[0;34m\u001b[0m\u001b[0m\n\u001b[0m\u001b[1;32m      3\u001b[0m \u001b[0mread_tsv\u001b[0m \u001b[0;34m=\u001b[0m \u001b[0mcsv\u001b[0m\u001b[0;34m.\u001b[0m\u001b[0mreader\u001b[0m\u001b[0;34m(\u001b[0m\u001b[0mfactors_tsv_file\u001b[0m\u001b[0;34m,\u001b[0m \u001b[0mdelimiter\u001b[0m\u001b[0;34m=\u001b[0m\u001b[0;34m\"\\t\"\u001b[0m\u001b[0;34m)\u001b[0m\u001b[0;34m\u001b[0m\u001b[0;34m\u001b[0m\u001b[0m\n",
      "\u001b[0;31mFileNotFoundError\u001b[0m: [Errno 2] No such file or directory: '/home/fabric/work/v4-la-tools/FD/Jiabhi_Experiment_LA_Header-Copy1.tsv'"
     ]
    }
   ],
   "source": [
    "la_dir = la_generator_dir+'LA/'\n",
    "factors_tsv_file = open(factors_dir+'Jiabhi_Experiment_LA_Header-Copy1.tsv')\n",
    "read_tsv = csv.reader(factors_tsv_file, delimiter=\"\\t\")"
   ]
  },
  {
   "cell_type": "code",
   "execution_count": 8,
   "id": "08183d5e-b72a-485e-88d4-62956253ec65",
   "metadata": {},
   "outputs": [
    {
     "name": "stdout",
     "output_type": "stream",
     "text": [
      "['15', '3']\n",
      "4\n",
      "['3', '3', '3', '']\n",
      "['2', '0', '0', '']\n",
      "['0', '2', '1', '']\n",
      "['1', '1', '2', '']\n",
      "['1', '2', '0', '']\n",
      "['0', '0', '2', '']\n",
      "['2', '1', '1', '']\n",
      "['1', '0', '1', '']\n",
      "['0', '1', '2', '']\n",
      "['2', '2', '0', '']\n",
      "['2', '0', '1', '']\n",
      "['1', '2', '2', '']\n",
      "['0', '0', '1', '']\n",
      "['2', '1', '2', '']\n",
      "['0', '2', '0', '']\n",
      "['1', '0', '2', '']\n",
      "[[2, 0, 0], [0, 2, 1], [1, 1, 2], [1, 2, 0], [0, 0, 2], [2, 1, 1], [1, 0, 1], [0, 1, 2], [2, 2, 0], [2, 0, 1], [1, 2, 2], [0, 0, 1], [2, 1, 2], [0, 2, 0], [1, 0, 2]]\n"
     ]
    }
   ],
   "source": [
    "output_dir = '/home/fabric/work/jupyter-examples-rel1.3.3/fabric_examples/'\n",
    "output_file = output_dir+'OUT.tsv'\n",
    "output_tsv_file = open(output_file)\n",
    "read_tsv = csv.reader(output_tsv_file, delimiter=\"\\t\")\n",
    "next(read_tsv)\n",
    "num_rows_cols = next(read_tsv)\n",
    "print(num_rows_cols)\n",
    "cols = int(num_rows_cols[1])+1\n",
    "print(cols)\n",
    "is_header = True\n",
    "param_indexes = []\n",
    "for row in read_tsv:\n",
    "    if len(row)!=cols:\n",
    "        continue\n",
    "    print(row)\n",
    "    if is_header:\n",
    "        is_header = False\n",
    "        continue\n",
    "    param_indexes.append(list(map(int, row[:-1])))\n",
    "print(param_indexes)"
   ]
  },
  {
   "cell_type": "code",
   "execution_count": 9,
   "id": "f21904cf-6bf8-4efd-8a2b-fd55fa5453ed",
   "metadata": {},
   "outputs": [
    {
     "name": "stdout",
     "output_type": "stream",
     "text": [
      "0 2\n",
      "tcp_version 2\n",
      "1 0\n",
      "num_parallel_connections  2\n",
      "2 0\n",
      "buffer_size 16\n",
      "0 0\n",
      "tcp_version 0\n",
      "1 2\n",
      "num_parallel_connections  6\n",
      "2 1\n",
      "buffer_size 32\n",
      "0 1\n",
      "tcp_version 1\n",
      "1 1\n",
      "num_parallel_connections  4\n",
      "2 2\n",
      "buffer_size 64\n",
      "0 1\n",
      "tcp_version 1\n",
      "1 2\n",
      "num_parallel_connections  6\n",
      "2 0\n",
      "buffer_size 16\n",
      "0 0\n",
      "tcp_version 0\n",
      "1 0\n",
      "num_parallel_connections  2\n",
      "2 2\n",
      "buffer_size 64\n",
      "0 2\n",
      "tcp_version 2\n",
      "1 1\n",
      "num_parallel_connections  4\n",
      "2 1\n",
      "buffer_size 32\n",
      "0 1\n",
      "tcp_version 1\n",
      "1 0\n",
      "num_parallel_connections  2\n",
      "2 1\n",
      "buffer_size 32\n",
      "0 0\n",
      "tcp_version 0\n",
      "1 1\n",
      "num_parallel_connections  4\n",
      "2 2\n",
      "buffer_size 64\n",
      "0 2\n",
      "tcp_version 2\n",
      "1 2\n",
      "num_parallel_connections  6\n",
      "2 0\n",
      "buffer_size 16\n",
      "0 2\n",
      "tcp_version 2\n",
      "1 0\n",
      "num_parallel_connections  2\n",
      "2 1\n",
      "buffer_size 32\n",
      "0 1\n",
      "tcp_version 1\n",
      "1 2\n",
      "num_parallel_connections  6\n",
      "2 2\n",
      "buffer_size 64\n",
      "0 0\n",
      "tcp_version 0\n",
      "1 0\n",
      "num_parallel_connections  2\n",
      "2 1\n",
      "buffer_size 32\n",
      "0 2\n",
      "tcp_version 2\n",
      "1 1\n",
      "num_parallel_connections  4\n",
      "2 2\n",
      "buffer_size 64\n",
      "0 0\n",
      "tcp_version 0\n",
      "1 2\n",
      "num_parallel_connections  6\n",
      "2 0\n",
      "buffer_size 16\n",
      "0 1\n",
      "tcp_version 1\n",
      "1 0\n",
      "num_parallel_connections  2\n",
      "2 2\n",
      "buffer_size 64\n",
      "[{'tcp_version': 2, 'num_parallel_connections ': 2, 'buffer_size': 16}, {'tcp_version': 0, 'num_parallel_connections ': 6, 'buffer_size': 32}, {'tcp_version': 1, 'num_parallel_connections ': 4, 'buffer_size': 64}, {'tcp_version': 1, 'num_parallel_connections ': 6, 'buffer_size': 16}, {'tcp_version': 0, 'num_parallel_connections ': 2, 'buffer_size': 64}, {'tcp_version': 2, 'num_parallel_connections ': 4, 'buffer_size': 32}, {'tcp_version': 1, 'num_parallel_connections ': 2, 'buffer_size': 32}, {'tcp_version': 0, 'num_parallel_connections ': 4, 'buffer_size': 64}, {'tcp_version': 2, 'num_parallel_connections ': 6, 'buffer_size': 16}, {'tcp_version': 2, 'num_parallel_connections ': 2, 'buffer_size': 32}, {'tcp_version': 1, 'num_parallel_connections ': 6, 'buffer_size': 64}, {'tcp_version': 0, 'num_parallel_connections ': 2, 'buffer_size': 32}, {'tcp_version': 2, 'num_parallel_connections ': 4, 'buffer_size': 64}, {'tcp_version': 0, 'num_parallel_connections ': 6, 'buffer_size': 16}, {'tcp_version': 1, 'num_parallel_connections ': 2, 'buffer_size': 64}]\n"
     ]
    }
   ],
   "source": [
    "try:\n",
    "    params_config=[]\n",
    "    for row in param_indexes:\n",
    "        param_vs_value = {}\n",
    "        for i in range(0, len(row)):\n",
    "            print (i, row[i])\n",
    "            param_name = parameters[i]\n",
    "            param_vs_value[param_name] = param_values[i][row[i]]\n",
    "            print(param_name, param_values[i][row[i]])\n",
    "        params_config.append(param_vs_value)\n",
    "#         print(param_vs_value)\n",
    "    print(params_config)\n",
    "except Exception as e:\n",
    "    print(f\"Exception: {e}\")"
   ]
  },
  {
   "cell_type": "code",
   "execution_count": 9,
   "id": "09013140-6932-4316-a53b-5fb0c2bb635f",
   "metadata": {},
   "outputs": [
    {
     "name": "stdout",
     "output_type": "stream",
     "text": [
      "Sites: MAX, UTAH\n"
     ]
    }
   ],
   "source": [
    "slice_name = 'jiabhi_test_slice_exp'\n",
    "[site1,site2] = ['MAX', 'UTAH']\n",
    "# fablib.get_random_sites(count=2)\n",
    "print(f\"Sites: {site1}, {site2}\")\n",
    "\n",
    "node1_name = 'Node1'\n",
    "node2_name = 'Node2'\n",
    "\n",
    "network1_name='net1'\n",
    "network2_name='net2'\n",
    "\n",
    "node1_nic_name = 'nic1'\n",
    "node2_nic_name = 'nic2'\n",
    "\n",
    "image = 'default_ubuntu_20'"
   ]
  },
  {
   "cell_type": "code",
   "execution_count": 11,
   "id": "85699fd3-3381-42c0-bdca-602a3c3031f7",
   "metadata": {},
   "outputs": [
    {
     "name": "stdout",
     "output_type": "stream",
     "text": [
      "Exception: Failed to submit slice: Status.FAILURE, (500)\n",
      "Reason: INTERNAL SERVER ERROR\n",
      "HTTP response headers: HTTPHeaderDict({'Server': 'nginx/1.21.6', 'Date': 'Wed, 28 Sep 2022 21:44:28 GMT', 'Content-Type': 'text/html; charset=utf-8', 'Content-Length': '216', 'Connection': 'keep-alive', 'Access-Control-Allow-Credentials': 'true', 'Access-Control-Allow-Headers': 'DNT, User-Agent, X-Requested-With, If-Modified-Since, Cache-Control, Content-Type, Range, Authorization', 'Access-Control-Allow-Methods': 'GET, POST, PUT, PATCH, DELETE, OPTIONS', 'Access-Control-Allow-Origin': '*', 'Access-Control-Expose-Headers': 'Content-Length, Content-Range, X-Error', 'X-Error': 'Slice jiabhi_test_slice_exp already exists'})\n",
      "HTTP response body: b'{\\n    \"errors\": [\\n        {\\n            \"details\": \"Slice jiabhi_test_slice_exp already exists\",\\n            \"message\": \"Internal Server Error\"\\n        }\\n    ],\\n    \"size\": 1,\\n    \"status\": 500,\\n    \"type\": \"error\"\\n}'\n",
      "\n"
     ]
    }
   ],
   "source": [
    "try:\n",
    "    #Create Slice\n",
    "    slice = fablib.new_slice(name=slice_name)\n",
    "\n",
    "    # Node1\n",
    "    node1 = slice.add_node(name=node1_name, site=site1, image=image)\n",
    "    node1_iface = node1.add_component(model='NIC_Basic', name=node1_nic_name).get_interfaces()[0]\n",
    "    \n",
    "    # Node2\n",
    "    node2 = slice.add_node(name=node2_name, site=site2, image=image)\n",
    "    node2_iface = node2.add_component(model='NIC_Basic', name=node2_nic_name).get_interfaces()[0]\n",
    "    \n",
    "    # Network\n",
    "    net1 = slice.add_l2network(name=network1_name, interfaces=[node1_iface, node2_iface])\n",
    "\n",
    "    #Submit Slice Request\n",
    "    slice.submit()\n",
    "except Exception as e:\n",
    "    print(f\"Exception: {e}\")"
   ]
  },
  {
   "cell_type": "code",
   "execution_count": 10,
   "id": "851963c4-8db1-4c99-8485-830de4d5c49c",
   "metadata": {},
   "outputs": [
    {
     "name": "stdout",
     "output_type": "stream",
     "text": [
      "-----------------  --------------------------------------------------------------------------------------------------------------------\n",
      "ID                 2b9aecfb-f771-4d85-9d92-ecd89e307241\n",
      "Name               Node1\n",
      "Cores              2\n",
      "RAM                8\n",
      "Disk               10\n",
      "Image              default_ubuntu_20\n",
      "Image Type         qcow2\n",
      "Host               max-w4.fabric-testbed.net\n",
      "Site               MAX\n",
      "Management IP      63.239.135.84\n",
      "Reservation State  Active\n",
      "Error Message\n",
      "SSH Command        ssh -i /home/fabric/work/keys/jiabhi_sliver -J ajinda10_0051550143@bastion-1.fabric-testbed.net ubuntu@63.239.135.84\n",
      "-----------------  --------------------------------------------------------------------------------------------------------------------\n",
      "-----------------  ------------------------------------------------------------------------------------------------------------------------------------------\n",
      "ID                 983ce15d-90fa-484b-a6a3-04b543a93f6f\n",
      "Name               Node2\n",
      "Cores              2\n",
      "RAM                8\n",
      "Disk               10\n",
      "Image              default_ubuntu_20\n",
      "Image Type         qcow2\n",
      "Host               utah-w2.fabric-testbed.net\n",
      "Site               UTAH\n",
      "Management IP      2001:1948:417:7:f816:3eff:fe17:7f0a\n",
      "Reservation State  Active\n",
      "Error Message\n",
      "SSH Command        ssh -i /home/fabric/work/keys/jiabhi_sliver -J ajinda10_0051550143@bastion-1.fabric-testbed.net ubuntu@2001:1948:417:7:f816:3eff:fe17:7f0a\n",
      "-----------------  ------------------------------------------------------------------------------------------------------------------------------------------\n"
     ]
    }
   ],
   "source": [
    "try:\n",
    "    slice = fablib.get_slice(name=slice_name)\n",
    "    for node in slice.get_nodes():\n",
    "        print(f\"{node}\")\n",
    "except Exception as e:\n",
    "    print(f\"Exception: {e}\")"
   ]
  },
  {
   "cell_type": "code",
   "execution_count": 11,
   "id": "2ceaf5a3-01d6-4e95-8ec0-03d9fcb34392",
   "metadata": {},
   "outputs": [],
   "source": [
    "from ipaddress import ip_address, IPv4Address, IPv6Address, IPv4Network, IPv6Network\n",
    "\n",
    "try:\n",
    "    subnet = IPv4Network(\"192.168.1.0/24\")\n",
    "    available_ips = list(subnet)[1:]\n",
    "except Exception as e:\n",
    "    print(f\"Exception: {e}\")"
   ]
  },
  {
   "cell_type": "code",
   "execution_count": 12,
   "id": "c03d7a07-531d-496d-9162-c787fc4a7998",
   "metadata": {},
   "outputs": [
    {
     "name": "stdout",
     "output_type": "stream",
     "text": [
      "1: lo: <LOOPBACK,UP,LOWER_UP> mtu 65536 qdisc noqueue state UNKNOWN group default qlen 1000\n",
      "    link/loopback 00:00:00:00:00:00 brd 00:00:00:00:00:00\n",
      "    inet 127.0.0.1/8 scope host lo\n",
      "       valid_lft forever preferred_lft forever\n",
      "    inet6 ::1/128 scope host \n",
      "       valid_lft forever preferred_lft forever\n",
      "2: ens3: <BROADCAST,MULTICAST,UP,LOWER_UP> mtu 9000 qdisc fq_codel state UP group default qlen 1000\n",
      "    link/ether fa:16:3e:0d:f7:c2 brd ff:ff:ff:ff:ff:ff\n",
      "    inet 10.20.4.255/23 brd 10.20.5.255 scope global dynamic ens3\n",
      "       valid_lft 82413sec preferred_lft 82413sec\n",
      "    inet6 fe80::f816:3eff:fe0d:f7c2/64 scope link \n",
      "       valid_lft forever preferred_lft forever\n",
      "3: ens7: <BROADCAST,MULTICAST,UP,LOWER_UP> mtu 1500 qdisc mq state UP group default qlen 1000\n",
      "    link/ether 06:d4:b6:ee:fb:c6 brd ff:ff:ff:ff:ff:ff\n",
      "    inet 192.168.1.1/24 scope global ens7\n",
      "       valid_lft forever preferred_lft forever\n",
      "    inet6 fe80::4d4:b6ff:feee:fbc6/64 scope link \n",
      "       valid_lft forever preferred_lft forever\n",
      "\n"
     ]
    }
   ],
   "source": [
    "try:\n",
    "    node1 = slice.get_node(name=node1_name)        \n",
    "    node1_iface = node1.get_interface(network_name=network1_name) \n",
    "    node1_addr = available_ips.pop(0)\n",
    "    # node1_iface.ip_addr_add(addr=node1_addr, subnet=subnet)\n",
    "    \n",
    "    stdout, stderr = node1.execute(f'ip addr show')\n",
    "    print (stdout)\n",
    "    \n",
    "except Exception as e:\n",
    "    print(f\"Exception: {e}\")"
   ]
  },
  {
   "cell_type": "code",
   "execution_count": 13,
   "id": "bed386f2-8e0f-4931-96bd-6e108203bfcd",
   "metadata": {},
   "outputs": [
    {
     "name": "stdout",
     "output_type": "stream",
     "text": [
      "3: ens7: <BROADCAST,MULTICAST,UP,LOWER_UP> mtu 1500 qdisc mq state UP group default qlen 1000\n",
      "    link/ether 06:ba:bc:72:f8:34 brd ff:ff:ff:ff:ff:ff\n",
      "    inet 192.168.1.2/24 scope global ens7\n",
      "       valid_lft forever preferred_lft forever\n",
      "    inet6 fe80::4ba:bcff:fe72:f834/64 scope link \n",
      "       valid_lft forever preferred_lft forever\n",
      "\n"
     ]
    }
   ],
   "source": [
    "try:\n",
    "    node2 = slice.get_node(name=node2_name)        \n",
    "    node2_iface = node2.get_interface(network_name=network1_name) \n",
    "    node2_addr = available_ips.pop(0)\n",
    "    # node2_iface.ip_addr_add(addr=node2_addr, subnet=subnet)\n",
    "    \n",
    "    stdout, stderr = node2.execute(f'ip addr show {node2_iface.get_os_interface()}')\n",
    "    print (stdout)\n",
    "    \n",
    "except Exception as e:\n",
    "    print(f\"Exception: {e}\")"
   ]
  },
  {
   "cell_type": "code",
   "execution_count": 19,
   "id": "21eae58f-16d8-416a-897f-b541f0082b0f",
   "metadata": {},
   "outputs": [
    {
     "name": "stdout",
     "output_type": "stream",
     "text": [
      "Hit:1 http://nova.clouds.archive.ubuntu.com/ubuntu focal InRelease\n",
      "Get:2 http://nova.clouds.archive.ubuntu.com/ubuntu focal-updates InRelease [114 kB]\n",
      "Get:3 http://nova.clouds.archive.ubuntu.com/ubuntu focal-backports InRelease [108 kB]\n",
      "Get:4 http://nova.clouds.archive.ubuntu.com/ubuntu focal/universe amd64 Packages [8628 kB]\n",
      "Get:5 http://security.ubuntu.com/ubuntu focal-security InRelease [114 kB]\n",
      "Get:6 http://nova.clouds.archive.ubuntu.com/ubuntu focal/universe Translation-en [5124 kB]\n",
      "Get:7 http://nova.clouds.archive.ubuntu.com/ubuntu focal/universe amd64 c-n-f Metadata [265 kB]\n",
      "Get:8 http://nova.clouds.archive.ubuntu.com/ubuntu focal/multiverse amd64 Packages [144 kB]\n",
      "Get:9 http://nova.clouds.archive.ubuntu.com/ubuntu focal/multiverse Translation-en [104 kB]\n",
      "Get:10 http://nova.clouds.archive.ubuntu.com/ubuntu focal/multiverse amd64 c-n-f Metadata [9136 B]\n",
      "Get:11 http://nova.clouds.archive.ubuntu.com/ubuntu focal-updates/main amd64 Packages [2121 kB]\n",
      "Get:12 http://nova.clouds.archive.ubuntu.com/ubuntu focal-updates/main Translation-en [376 kB]\n",
      "Get:13 http://nova.clouds.archive.ubuntu.com/ubuntu focal-updates/main amd64 c-n-f Metadata [16.0 kB]\n",
      "Get:14 http://nova.clouds.archive.ubuntu.com/ubuntu focal-updates/restricted amd64 Packages [1298 kB]\n",
      "Get:15 http://nova.clouds.archive.ubuntu.com/ubuntu focal-updates/restricted Translation-en [184 kB]\n",
      "Get:16 http://nova.clouds.archive.ubuntu.com/ubuntu focal-updates/restricted amd64 c-n-f Metadata [584 B]\n",
      "Get:17 http://nova.clouds.archive.ubuntu.com/ubuntu focal-updates/universe amd64 Packages [957 kB]\n",
      "Get:18 http://nova.clouds.archive.ubuntu.com/ubuntu focal-updates/universe Translation-en [219 kB]\n",
      "Get:19 http://nova.clouds.archive.ubuntu.com/ubuntu focal-updates/universe amd64 c-n-f Metadata [21.6 kB]\n",
      "Get:20 http://nova.clouds.archive.ubuntu.com/ubuntu focal-updates/multiverse amd64 Packages [24.4 kB]\n",
      "Get:21 http://nova.clouds.archive.ubuntu.com/ubuntu focal-updates/multiverse Translation-en [7316 B]\n",
      "Get:22 http://nova.clouds.archive.ubuntu.com/ubuntu focal-updates/multiverse amd64 c-n-f Metadata [588 B]\n",
      "Get:23 http://nova.clouds.archive.ubuntu.com/ubuntu focal-backports/main amd64 Packages [45.6 kB]\n",
      "Get:24 http://nova.clouds.archive.ubuntu.com/ubuntu focal-backports/main Translation-en [16.3 kB]\n",
      "Get:25 http://nova.clouds.archive.ubuntu.com/ubuntu focal-backports/main amd64 c-n-f Metadata [1420 B]\n",
      "Get:26 http://nova.clouds.archive.ubuntu.com/ubuntu focal-backports/restricted amd64 c-n-f Metadata [116 B]\n",
      "Get:27 http://nova.clouds.archive.ubuntu.com/ubuntu focal-backports/universe amd64 Packages [23.9 kB]\n",
      "Get:28 http://nova.clouds.archive.ubuntu.com/ubuntu focal-backports/universe Translation-en [16.0 kB]\n",
      "Get:29 http://nova.clouds.archive.ubuntu.com/ubuntu focal-backports/universe amd64 c-n-f Metadata [860 B]\n",
      "Get:30 http://nova.clouds.archive.ubuntu.com/ubuntu focal-backports/multiverse amd64 c-n-f Metadata [116 B]\n",
      "Get:31 http://security.ubuntu.com/ubuntu focal-security/main amd64 Packages [1746 kB]\n",
      "Get:32 http://security.ubuntu.com/ubuntu focal-security/main Translation-en [292 kB]\n",
      "Get:33 http://security.ubuntu.com/ubuntu focal-security/main amd64 c-n-f Metadata [11.1 kB]\n",
      "Get:34 http://security.ubuntu.com/ubuntu focal-security/restricted amd64 Packages [1209 kB]\n",
      "Get:35 http://security.ubuntu.com/ubuntu focal-security/restricted Translation-en [171 kB]\n",
      "Get:36 http://security.ubuntu.com/ubuntu focal-security/restricted amd64 c-n-f Metadata [588 B]\n",
      "Get:37 http://security.ubuntu.com/ubuntu focal-security/universe amd64 Packages [727 kB]\n",
      "Get:38 http://security.ubuntu.com/ubuntu focal-security/universe Translation-en [134 kB]\n",
      "Get:39 http://security.ubuntu.com/ubuntu focal-security/universe amd64 c-n-f Metadata [15.1 kB]\n",
      "Get:40 http://security.ubuntu.com/ubuntu focal-security/multiverse amd64 Packages [22.2 kB]\n",
      "Get:41 http://security.ubuntu.com/ubuntu focal-security/multiverse Translation-en [5376 B]\n",
      "Get:42 http://security.ubuntu.com/ubuntu focal-security/multiverse amd64 c-n-f Metadata [508 B]\n",
      "Fetched 24.3 MB in 3s (7363 kB/s)\n",
      "Reading package lists...\n",
      "Reading package lists...\n",
      "Building dependency tree...\n",
      "Reading state information...\n",
      "The following additional packages will be installed:\n",
      "  libiperf0 libsctp1\n",
      "Suggested packages:\n",
      "  lksctp-tools\n",
      "The following NEW packages will be installed:\n",
      "  iperf3 libiperf0 libsctp1\n",
      "0 upgraded, 3 newly installed, 0 to remove and 162 not upgraded.\n",
      "Need to get 94.1 kB of archives.\n",
      "After this operation, 331 kB of additional disk space will be used.\n",
      "Get:1 http://nova.clouds.archive.ubuntu.com/ubuntu focal/main amd64 libsctp1 amd64 1.0.18+dfsg-1 [7876 B]\n",
      "Get:2 http://nova.clouds.archive.ubuntu.com/ubuntu focal/universe amd64 libiperf0 amd64 3.7-3 [72.0 kB]\n",
      "Get:3 http://nova.clouds.archive.ubuntu.com/ubuntu focal/universe amd64 iperf3 amd64 3.7-3 [14.2 kB]\n",
      "Fetched 94.1 kB in 0s (1128 kB/s)\n",
      "Selecting previously unselected package libsctp1:amd64.\n",
      "(Reading database ... 63577 files and directories currently installed.)\n",
      "Preparing to unpack .../libsctp1_1.0.18+dfsg-1_amd64.deb ...\n",
      "Unpacking libsctp1:amd64 (1.0.18+dfsg-1) ...\n",
      "Selecting previously unselected package libiperf0:amd64.\n",
      "Preparing to unpack .../libiperf0_3.7-3_amd64.deb ...\n",
      "Unpacking libiperf0:amd64 (3.7-3) ...\n",
      "Selecting previously unselected package iperf3.\n",
      "Preparing to unpack .../iperf3_3.7-3_amd64.deb ...\n",
      "Unpacking iperf3 (3.7-3) ...\n",
      "Setting up libsctp1:amd64 (1.0.18+dfsg-1) ...\n",
      "Setting up libiperf0:amd64 (3.7-3) ...\n",
      "Setting up iperf3 (3.7-3) ...\n",
      "Processing triggers for man-db (2.9.1-1) ...\n",
      "Processing triggers for libc-bin (2.31-0ubuntu9.2) ...\n",
      "\n"
     ]
    }
   ],
   "source": [
    "stdout, stderr = node1.execute(\"sudo apt-get update && sudo apt-get -y install iperf3\")\n",
    "print (stdout)"
   ]
  },
  {
   "cell_type": "code",
   "execution_count": 20,
   "id": "6f5f7fae-16e7-4b4a-893e-3a7ddf86ef3c",
   "metadata": {},
   "outputs": [
    {
     "name": "stdout",
     "output_type": "stream",
     "text": [
      "Hit:1 http://nova.clouds.archive.ubuntu.com/ubuntu focal InRelease\n",
      "Get:2 http://nova.clouds.archive.ubuntu.com/ubuntu focal-updates InRelease [114 kB]\n",
      "Get:3 http://security.ubuntu.com/ubuntu focal-security InRelease [114 kB]\n",
      "Get:4 http://nova.clouds.archive.ubuntu.com/ubuntu focal-backports InRelease [108 kB]\n",
      "Get:5 http://nova.clouds.archive.ubuntu.com/ubuntu focal/universe amd64 Packages [8628 kB]\n",
      "Get:6 http://security.ubuntu.com/ubuntu focal-security/main amd64 Packages [1746 kB]\n",
      "Get:7 http://nova.clouds.archive.ubuntu.com/ubuntu focal/universe Translation-en [5124 kB]\n",
      "Get:8 http://security.ubuntu.com/ubuntu focal-security/main Translation-en [292 kB]\n",
      "Get:9 http://security.ubuntu.com/ubuntu focal-security/main amd64 c-n-f Metadata [11.1 kB]\n",
      "Get:10 http://security.ubuntu.com/ubuntu focal-security/restricted amd64 Packages [1209 kB]\n",
      "Get:11 http://security.ubuntu.com/ubuntu focal-security/restricted Translation-en [171 kB]\n",
      "Get:12 http://security.ubuntu.com/ubuntu focal-security/restricted amd64 c-n-f Metadata [588 B]\n",
      "Get:13 http://security.ubuntu.com/ubuntu focal-security/universe amd64 Packages [727 kB]\n",
      "Get:14 http://nova.clouds.archive.ubuntu.com/ubuntu focal/universe amd64 c-n-f Metadata [265 kB]\n",
      "Get:15 http://nova.clouds.archive.ubuntu.com/ubuntu focal/multiverse amd64 Packages [144 kB]\n",
      "Get:16 http://nova.clouds.archive.ubuntu.com/ubuntu focal/multiverse Translation-en [104 kB]\n",
      "Get:17 http://nova.clouds.archive.ubuntu.com/ubuntu focal/multiverse amd64 c-n-f Metadata [9136 B]\n",
      "Get:18 http://nova.clouds.archive.ubuntu.com/ubuntu focal-updates/main amd64 Packages [2121 kB]\n",
      "Get:19 http://security.ubuntu.com/ubuntu focal-security/universe Translation-en [134 kB]\n",
      "Get:20 http://security.ubuntu.com/ubuntu focal-security/universe amd64 c-n-f Metadata [15.1 kB]\n",
      "Get:21 http://security.ubuntu.com/ubuntu focal-security/multiverse amd64 Packages [22.2 kB]\n",
      "Get:22 http://security.ubuntu.com/ubuntu focal-security/multiverse Translation-en [5376 B]\n",
      "Get:23 http://security.ubuntu.com/ubuntu focal-security/multiverse amd64 c-n-f Metadata [508 B]\n",
      "Get:24 http://nova.clouds.archive.ubuntu.com/ubuntu focal-updates/main Translation-en [376 kB]\n",
      "Get:25 http://nova.clouds.archive.ubuntu.com/ubuntu focal-updates/main amd64 c-n-f Metadata [16.0 kB]\n",
      "Get:26 http://nova.clouds.archive.ubuntu.com/ubuntu focal-updates/restricted amd64 Packages [1298 kB]\n",
      "Get:27 http://nova.clouds.archive.ubuntu.com/ubuntu focal-updates/restricted Translation-en [184 kB]\n",
      "Get:28 http://nova.clouds.archive.ubuntu.com/ubuntu focal-updates/restricted amd64 c-n-f Metadata [584 B]\n",
      "Get:29 http://nova.clouds.archive.ubuntu.com/ubuntu focal-updates/universe amd64 Packages [957 kB]\n",
      "Get:30 http://nova.clouds.archive.ubuntu.com/ubuntu focal-updates/universe Translation-en [219 kB]\n",
      "Get:31 http://nova.clouds.archive.ubuntu.com/ubuntu focal-updates/universe amd64 c-n-f Metadata [21.6 kB]\n",
      "Get:32 http://nova.clouds.archive.ubuntu.com/ubuntu focal-updates/multiverse amd64 Packages [24.4 kB]\n",
      "Get:33 http://nova.clouds.archive.ubuntu.com/ubuntu focal-updates/multiverse Translation-en [7316 B]\n",
      "Get:34 http://nova.clouds.archive.ubuntu.com/ubuntu focal-updates/multiverse amd64 c-n-f Metadata [588 B]\n",
      "Get:35 http://nova.clouds.archive.ubuntu.com/ubuntu focal-backports/main amd64 Packages [45.6 kB]\n",
      "Get:36 http://nova.clouds.archive.ubuntu.com/ubuntu focal-backports/main Translation-en [16.3 kB]\n",
      "Get:37 http://nova.clouds.archive.ubuntu.com/ubuntu focal-backports/main amd64 c-n-f Metadata [1420 B]\n",
      "Get:38 http://nova.clouds.archive.ubuntu.com/ubuntu focal-backports/restricted amd64 c-n-f Metadata [116 B]\n",
      "Get:39 http://nova.clouds.archive.ubuntu.com/ubuntu focal-backports/universe amd64 Packages [23.9 kB]\n",
      "Get:40 http://nova.clouds.archive.ubuntu.com/ubuntu focal-backports/universe Translation-en [16.0 kB]\n",
      "Get:41 http://nova.clouds.archive.ubuntu.com/ubuntu focal-backports/universe amd64 c-n-f Metadata [860 B]\n",
      "Get:42 http://nova.clouds.archive.ubuntu.com/ubuntu focal-backports/multiverse amd64 c-n-f Metadata [116 B]\n",
      "Fetched 24.3 MB in 4s (5753 kB/s)\n",
      "Reading package lists...\n",
      "Reading package lists...\n",
      "Building dependency tree...\n",
      "Reading state information...\n",
      "The following additional packages will be installed:\n",
      "  libiperf0 libsctp1\n",
      "Suggested packages:\n",
      "  lksctp-tools\n",
      "The following NEW packages will be installed:\n",
      "  iperf3 libiperf0 libsctp1\n",
      "0 upgraded, 3 newly installed, 0 to remove and 162 not upgraded.\n",
      "Need to get 94.1 kB of archives.\n",
      "After this operation, 331 kB of additional disk space will be used.\n",
      "Get:1 http://nova.clouds.archive.ubuntu.com/ubuntu focal/main amd64 libsctp1 amd64 1.0.18+dfsg-1 [7876 B]\n",
      "Get:2 http://nova.clouds.archive.ubuntu.com/ubuntu focal/universe amd64 libiperf0 amd64 3.7-3 [72.0 kB]\n",
      "Get:3 http://nova.clouds.archive.ubuntu.com/ubuntu focal/universe amd64 iperf3 amd64 3.7-3 [14.2 kB]\n",
      "Fetched 94.1 kB in 0s (205 kB/s)\n",
      "Selecting previously unselected package libsctp1:amd64.\n",
      "(Reading database ... 63577 files and directories currently installed.)\n",
      "Preparing to unpack .../libsctp1_1.0.18+dfsg-1_amd64.deb ...\n",
      "Unpacking libsctp1:amd64 (1.0.18+dfsg-1) ...\n",
      "Selecting previously unselected package libiperf0:amd64.\n",
      "Preparing to unpack .../libiperf0_3.7-3_amd64.deb ...\n",
      "Unpacking libiperf0:amd64 (3.7-3) ...\n",
      "Selecting previously unselected package iperf3.\n",
      "Preparing to unpack .../iperf3_3.7-3_amd64.deb ...\n",
      "Unpacking iperf3 (3.7-3) ...\n",
      "Setting up libsctp1:amd64 (1.0.18+dfsg-1) ...\n",
      "Setting up libiperf0:amd64 (3.7-3) ...\n",
      "Setting up iperf3 (3.7-3) ...\n",
      "Processing triggers for man-db (2.9.1-1) ...\n",
      "Processing triggers for libc-bin (2.31-0ubuntu9.2) ...\n",
      "\n"
     ]
    }
   ],
   "source": [
    "stdout, stderr = node2.execute(\"sudo apt-get update && sudo apt-get -y install iperf3\")\n",
    "print (stdout)"
   ]
  },
  {
   "cell_type": "code",
   "execution_count": null,
   "id": "85ccb622-fe47-4a09-b787-70877f6f837c",
   "metadata": {},
   "outputs": [],
   "source": [
    "node1.execute('sudo apt install net-tools')\n",
    "node1.execute('sudo apt-get install moreutils')"
   ]
  },
  {
   "cell_type": "code",
   "execution_count": null,
   "id": "14aaa709-881f-478a-9811-6aaed557d5c9",
   "metadata": {},
   "outputs": [],
   "source": [
    "node2.execute('sudo apt install net-tools')\n",
    "node2.execute('sudo apt-get install moreutils')"
   ]
  },
  {
   "cell_type": "code",
   "execution_count": 17,
   "id": "8301e857-95e5-4a15-bb92-7a91abea4be6",
   "metadata": {},
   "outputs": [
    {
     "data": {
      "text/plain": [
       "('',\n",
       " '--2022-09-28 22:29:07--  https://raw.githubusercontent.com/ffund/tcp-ip-essentials/gh-pages/scripts/ss-output.sh\\nResolving raw.githubusercontent.com (raw.githubusercontent.com)... 185.199.110.133, 185.199.111.133, 185.199.109.133, ...\\nConnecting to raw.githubusercontent.com (raw.githubusercontent.com)|185.199.110.133|:443... connected.\\nHTTP request sent, awaiting response... 200 OK\\nLength: 1052 (1.0K) [text/plain]\\nSaving to: ‘ss-output.sh’\\n\\n     0K .                                                     100%  162M=0s\\n\\n2022-09-28 22:29:07 (162 MB/s) - ‘ss-output.sh’ saved [1052/1052]\\n\\n')"
      ]
     },
     "execution_count": 17,
     "metadata": {},
     "output_type": "execute_result"
    }
   ],
   "source": [
    "node1.execute('wget -O ss-output.sh https://raw.githubusercontent.com/ffund/tcp-ip-essentials/gh-pages/scripts/ss-output.sh')"
   ]
  },
  {
   "cell_type": "code",
   "execution_count": 18,
   "id": "07530317-b554-4af9-9291-2f4063cdd24e",
   "metadata": {},
   "outputs": [
    {
     "data": {
      "text/plain": [
       "('',\n",
       " '--2022-09-28 22:32:25--  https://raw.githubusercontent.com/ffund/tcp-ip-essentials/gh-pages/scripts/ss-data-analysis.R\\nResolving raw.githubusercontent.com (raw.githubusercontent.com)... 185.199.108.133, 185.199.109.133, 185.199.111.133, ...\\nConnecting to raw.githubusercontent.com (raw.githubusercontent.com)|185.199.108.133|:443... connected.\\nHTTP request sent, awaiting response... 200 OK\\nLength: 847 [text/plain]\\nSaving to: ‘ss-data-analysis.R’\\n\\n     0K                                                       100% 73.3M=0s\\n\\n2022-09-28 22:32:25 (73.3 MB/s) - ‘ss-data-analysis.R’ saved [847/847]\\n\\n')"
      ]
     },
     "execution_count": 18,
     "metadata": {},
     "output_type": "execute_result"
    }
   ],
   "source": [
    "node1.execute('wget -O ss-data-analysis.R https://raw.githubusercontent.com/ffund/tcp-ip-essentials/gh-pages/scripts/ss-data-analysis.R')"
   ]
  },
  {
   "cell_type": "code",
   "execution_count": 20,
   "id": "ea17ee49-bb1c-4b57-a21a-920d01546fd9",
   "metadata": {},
   "outputs": [
    {
     "data": {
      "text/plain": [
       "('', '')"
      ]
     },
     "execution_count": 20,
     "metadata": {},
     "output_type": "execute_result"
    }
   ],
   "source": [
    "node2.execute(\"nohup iperf3 -s -1 >> ~/reciever.txt > /dev/null 2>&1 &\")"
   ]
  },
  {
   "cell_type": "code",
   "execution_count": 21,
   "id": "1830cae9-f872-4be7-a1e1-dabb6b8d9ffd",
   "metadata": {},
   "outputs": [
    {
     "data": {
      "text/plain": [
       "('', '')"
      ]
     },
     "execution_count": 21,
     "metadata": {},
     "output_type": "execute_result"
    }
   ],
   "source": [
    "node1.execute('nohup bash ~/ss-output.sh 192.168.1.2 > /dev/null 2>&1 &')"
   ]
  },
  {
   "cell_type": "code",
   "execution_count": 22,
   "id": "e39035ad-e94b-4c6e-ad79-058372dc21f6",
   "metadata": {},
   "outputs": [
    {
     "data": {
      "text/plain": [
       "('', '')"
      ]
     },
     "execution_count": 22,
     "metadata": {},
     "output_type": "execute_result"
    }
   ],
   "source": [
    "node1.execute(\"nohup iperf3 -c 192.168.1.2 -P 3 -t 60 -C reno >> ~/sender.txt > /dev/null 2>&1 &\")"
   ]
  },
  {
   "cell_type": "code",
   "execution_count": 12,
   "id": "02e8c10b-ca82-4c56-91b4-9ec6540a5e99",
   "metadata": {},
   "outputs": [],
   "source": [
    "tcp_versions = {0: 'reno', 1:'vegas', 2:'cubic'}"
   ]
  },
  {
   "cell_type": "code",
   "execution_count": 18,
   "id": "0d182660-5fe9-416f-a016-de777901b221",
   "metadata": {},
   "outputs": [
    {
     "name": "stdout",
     "output_type": "stream",
     "text": [
      "nohup iperf3 -c 192.168.1.2 -t 60 -C cubic -w 16 >> ~/sender.txt > /dev/null 2>&1 &\n",
      "nohup iperf3 -c 192.168.1.2 -t 60 -C reno -w 32 >> ~/sender.txt > /dev/null 2>&1 &\n",
      "nohup iperf3 -c 192.168.1.2 -t 60 -C vegas -w 64 >> ~/sender.txt > /dev/null 2>&1 &\n",
      "nohup iperf3 -c 192.168.1.2 -t 60 -C vegas -w 16 >> ~/sender.txt > /dev/null 2>&1 &\n",
      "nohup iperf3 -c 192.168.1.2 -t 60 -C reno -w 64 >> ~/sender.txt > /dev/null 2>&1 &\n",
      "nohup iperf3 -c 192.168.1.2 -t 60 -C cubic -w 32 >> ~/sender.txt > /dev/null 2>&1 &\n",
      "nohup iperf3 -c 192.168.1.2 -t 60 -C vegas -w 32 >> ~/sender.txt > /dev/null 2>&1 &\n",
      "nohup iperf3 -c 192.168.1.2 -t 60 -C reno -w 64 >> ~/sender.txt > /dev/null 2>&1 &\n",
      "nohup iperf3 -c 192.168.1.2 -t 60 -C cubic -w 16 >> ~/sender.txt > /dev/null 2>&1 &\n",
      "nohup iperf3 -c 192.168.1.2 -t 60 -C cubic -w 32 >> ~/sender.txt > /dev/null 2>&1 &\n",
      "nohup iperf3 -c 192.168.1.2 -t 60 -C vegas -w 64 >> ~/sender.txt > /dev/null 2>&1 &\n",
      "nohup iperf3 -c 192.168.1.2 -t 60 -C reno -w 32 >> ~/sender.txt > /dev/null 2>&1 &\n",
      "nohup iperf3 -c 192.168.1.2 -t 60 -C cubic -w 64 >> ~/sender.txt > /dev/null 2>&1 &\n",
      "nohup iperf3 -c 192.168.1.2 -t 60 -C reno -w 16 >> ~/sender.txt > /dev/null 2>&1 &\n",
      "nohup iperf3 -c 192.168.1.2 -t 60 -C vegas -w 64 >> ~/sender.txt > /dev/null 2>&1 &\n"
     ]
    }
   ],
   "source": [
    "for params in params_config:\n",
    "    iperf_query = 'nohup iperf3 -c 192.168.1.2 -t 60'\n",
    "    for param in params:\n",
    "        if param == 'tcp_version':\n",
    "            tcp_version = tcp_versions[params[param]]\n",
    "            iperf_query += ' -C ' + tcp_version\n",
    "        elif param == 'num_parallel_connections':\n",
    "            iperf_query += ' -P ' + str(params[param])\n",
    "        elif param == 'buffer_size':\n",
    "            iperf_query += ' -w ' + str(params[param])\n",
    "    iperf_query += \" >> ~/sender.txt > /dev/null 2>&1 &\"\n",
    "    print(iperf_query)\n",
    "    # node1.execute('nohup bash ~/ss-output.sh 192.168.1.2 > /dev/null 2>&1 &')\n",
    "    # node1.execute(iperf_query)\n",
    "    # node1"
   ]
  },
  {
   "cell_type": "code",
   "execution_count": null,
   "id": "1935556d-44cb-4fb5-b7cf-562dccc38b87",
   "metadata": {},
   "outputs": [],
   "source": []
  },
  {
   "cell_type": "code",
   "execution_count": null,
   "id": "b2f580f0-781b-4030-9cdc-2d04db527d94",
   "metadata": {},
   "outputs": [],
   "source": []
  }
 ],
 "metadata": {
  "kernelspec": {
   "display_name": "Python 3 (ipykernel)",
   "language": "python",
   "name": "python3"
  },
  "language_info": {
   "codemirror_mode": {
    "name": "ipython",
    "version": 3
   },
   "file_extension": ".py",
   "mimetype": "text/x-python",
   "name": "python",
   "nbconvert_exporter": "python",
   "pygments_lexer": "ipython3",
   "version": "3.9.7"
  }
 },
 "nbformat": 4,
 "nbformat_minor": 5
}
