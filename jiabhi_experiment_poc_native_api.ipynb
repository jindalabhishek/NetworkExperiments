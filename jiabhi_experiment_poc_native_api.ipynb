{
 "cells": [
  {
   "cell_type": "code",
   "execution_count": 3,
   "id": "257377d9-f835-47ec-a322-a1a4048a616e",
   "metadata": {},
   "outputs": [],
   "source": [
    "import os\n",
    "from fabrictestbed.slice_manager import SliceManager, Status, SliceState\n",
    "import json"
   ]
  },
  {
   "cell_type": "code",
   "execution_count": null,
   "id": "52473d52-9202-40f8-89ae-38f407c11870",
   "metadata": {},
   "outputs": [],
   "source": []
  },
  {
   "cell_type": "code",
   "execution_count": 4,
   "id": "79c963b2-3607-4d14-bf63-d7eda2a8f08f",
   "metadata": {},
   "outputs": [],
   "source": [
    "bastion_public_addr = 'bastion-1.fabric-testbed.net'\n",
    "bastion_private_ipv4_addr = '152.54.15.12'\n",
    "bastion_private_ipv6_addr = '2600:2701:5000:a902::c'\n",
    "\n",
    "bastion_username = 'ajinda10_0051550143'\n",
    "\n",
    "bastion_key_filename = os.environ['HOME'] + \"/work/keys/jiabhi_bastion\"\n",
    "\n",
    "ssh_key_file_priv=os.environ['HOME']+\"/work/keys/jiabhi_sliver\"\n",
    "ssh_key_file_pub=os.environ['HOME']+\"/work/keys/jiabhi_sliver.pub\"\n",
    "\n",
    "ssh_key_pub = None\n",
    "with open (bastion_key_filename, \"r\") as myfile:\n",
    "    ssh_key_pub=myfile.read()\n",
    "    ssh_key_pub=ssh_key_pub.strip()"
   ]
  },
  {
   "cell_type": "code",
   "execution_count": 6,
   "id": "a6ffed70-a5e3-4785-91ba-19d1227ea7c3",
   "metadata": {},
   "outputs": [
    {
     "name": "stdout",
     "output_type": "stream",
     "text": [
      "FABRIC Credential Manager   : cm.fabric-testbed.net\n",
      "FABRIC Orchestrator         : orchestrator.fabric-testbed.net\n"
     ]
    }
   ],
   "source": [
    "credmgr_host = os.environ['FABRIC_CREDMGR_HOST']\n",
    "print(f\"FABRIC Credential Manager   : {credmgr_host}\")\n",
    "\n",
    "orchestrator_host = os.environ['FABRIC_ORCHESTRATOR_HOST']\n",
    "print(f\"FABRIC Orchestrator         : {orchestrator_host}\")"
   ]
  },
  {
   "cell_type": "code",
   "execution_count": 7,
   "id": "461c67ab-732f-40b8-97b4-58fd78c8e137",
   "metadata": {},
   "outputs": [],
   "source": [
    "slice_manager = SliceManager(oc_host=orchestrator_host, cm_host=credmgr_host, project_name='all', scope='all')\n",
    "\n",
    "# Initialize the slice manager\n",
    "slice_manager.initialize()"
   ]
  },
  {
   "cell_type": "code",
   "execution_count": 8,
   "id": "3b490a36-4bad-47df-9e6c-37d4781e79c5",
   "metadata": {},
   "outputs": [],
   "source": [
    "slice_name='jiabhi_slice'\n",
    "node_name='node1'\n",
    "site='MAX'\n",
    "username='centos'\n",
    "image_name='default_centos_8'\n",
    "image_type='qcow2'"
   ]
  },
  {
   "cell_type": "code",
   "execution_count": 9,
   "id": "ebeac124-c85b-47c6-94c7-6f53fcd08a7d",
   "metadata": {},
   "outputs": [],
   "source": [
    "node_name2='node2'"
   ]
  },
  {
   "cell_type": "code",
   "execution_count": 11,
   "id": "ab13d3c0-2ccf-4dcc-ba4f-f69892d61f95",
   "metadata": {},
   "outputs": [],
   "source": [
    "from fabrictestbed.slice_editor import ExperimentTopology, Capacities, ComponentType, ComponentModelType, ServiceType\n",
    "# Create topology\n",
    "experiment = ExperimentTopology()\n",
    "\n",
    "# Add node\n",
    "node = experiment.add_node(name=node_name, site=site)\n",
    "node2 = experiment.add_node(name=node_name2, site=site)\n",
    "\n",
    "# Set capacities\n",
    "cap = Capacities(core=2, ram=16, disk=100)\n",
    "# cap.set_fields(core=2, ram=16, disk=100)\n",
    "\n",
    "# Set Properties\n",
    "node.set_properties(capacities=cap, image_type=image_type, image_ref=image_name)\n",
    "node2.set_properties(capacities=cap, image_type=image_type, image_ref=image_name)"
   ]
  },
  {
   "cell_type": "code",
   "execution_count": 12,
   "id": "cf56bd42-16d5-4d5d-858b-dcf74c3b1ee9",
   "metadata": {},
   "outputs": [
    {
     "name": "stdout",
     "output_type": "stream",
     "text": [
      "Submitted slice creation request. Slice ID: 646fc2bf-abd9-4dd8-b6e9-8a6bb4427945\n"
     ]
    }
   ],
   "source": [
    "# Generate Slice Graph\n",
    "slice_graph = experiment.serialize()\n",
    "\n",
    "# Request slice from Orchestrator\n",
    "return_status, slice_reservations = slice_manager.create(slice_name=slice_name, \n",
    "                                                         slice_graph=slice_graph, \n",
    "                                                         ssh_key=ssh_key_file_pub)\n",
    "\n",
    "if return_status == Status.OK:\n",
    "    slice_id = slice_reservations[0].get_slice_id()\n",
    "    print(\"Submitted slice creation request. Slice ID: {}\".format(slice_id))\n",
    "else:\n",
    "    print(f\"Failure: {slice_reservations}\")"
   ]
  },
  {
   "cell_type": "code",
   "execution_count": 8,
   "id": "02504b17-e648-4510-9040-83039b069f4b",
   "metadata": {},
   "outputs": [
    {
     "name": "stdout",
     "output_type": "stream",
     "text": [
      "jiabhi_slice:\n",
      "   ID         : 646fc2bf-abd9-4dd8-b6e9-8a6bb4427945\n",
      "   State      : StableOK\n",
      "   Lease End  : 2022-03-23 20:59:31\n",
      "\n"
     ]
    }
   ],
   "source": [
    "return_status, slices = slice_manager.slices(excludes=[SliceState.Dead,SliceState.Closing])\n",
    "\n",
    "if return_status == Status.OK:\n",
    "    for slice in slices:\n",
    "        print(\"{}:\".format(slice.slice_name))\n",
    "        print(\"   ID         : {}\".format(slice.slice_id))\n",
    "        print(\"   State      : {}\".format(slice.slice_state))\n",
    "        print(\"   Lease End  : {}\".format(slice.lease_end))\n",
    "        print()\n",
    "else:\n",
    "    print(f\"Failure: {slices}\")"
   ]
  },
  {
   "cell_type": "code",
   "execution_count": 10,
   "id": "da428231-6ae7-4cf4-b3ae-a4eaa7585bb0",
   "metadata": {},
   "outputs": [
    {
     "name": "stdout",
     "output_type": "stream",
     "text": [
      "{'capacities': '{ core: 2 , ram: 16 G, disk: 100 G}', 'image_ref': 'default_centos_8', 'image_type': 'qcow2', 'name': 'node1', 'site': 'MAX', 'type': 'VM'}\n"
     ]
    }
   ],
   "source": [
    "print(node)"
   ]
  },
  {
   "cell_type": "code",
   "execution_count": 9,
   "id": "f8d8879c-ab7d-4b01-a330-7a05c18634e1",
   "metadata": {},
   "outputs": [
    {
     "name": "stdout",
     "output_type": "stream",
     "text": [
      "Status.OK\n"
     ]
    }
   ],
   "source": [
    "status, slivers = slice_manager.slivers(slice_object=slice)\n",
    "print(status)"
   ]
  },
  {
   "cell_type": "code",
   "execution_count": 10,
   "id": "2aa2d386-c104-41d3-ab9b-531fcdf41172",
   "metadata": {},
   "outputs": [
    {
     "name": "stdout",
     "output_type": "stream",
     "text": [
      "[{\n",
      "    \"graph_node_id\": \"b4bc6492-6376-45d0-b592-f9b1f0d52a15\",\n",
      "    \"join_state\": \"NoJoin\",\n",
      "    \"lease_end\": \"2022-03-23 20:59:31\",\n",
      "    \"lease_start\": \"2022-03-22 20:59:31\",\n",
      "    \"notices\": \"Reservation 8bea986d-52b6-471e-872c-ce26436aab91 (Slice jiabhi_slice(646fc2bf-abd9-4dd8-b6e9-8a6bb4427945) Graph Id:1051c6b0-b5ab-4d87-8951-c189f78ae09a Owner:ajinda10@asu.edu) is in state (Active,None_) \",\n",
      "    \"pending_state\": \"None_\",\n",
      "    \"reservation_id\": \"8bea986d-52b6-471e-872c-ce26436aab91\",\n",
      "    \"reservation_state\": \"Active\",\n",
      "    \"slice_id\": \"646fc2bf-abd9-4dd8-b6e9-8a6bb4427945\",\n",
      "    \"sliver\": \"{\\\"Name\\\": \\\"node2\\\", \\\"Type\\\": \\\"VM\\\", \\\"Capacities\\\": \\\"{\\\\\\\"core\\\\\\\": 2, \\\\\\\"disk\\\\\\\": 100, \\\\\\\"ram\\\\\\\": 16}\\\", \\\"CapacityHints\\\": \\\"{\\\\\\\"instance_type\\\\\\\": \\\\\\\"fabric.c4.m16.d100\\\\\\\"}\\\", \\\"CapacityAllocations\\\": \\\"{\\\\\\\"core\\\\\\\": 4, \\\\\\\"disk\\\\\\\": 100, \\\\\\\"ram\\\\\\\": 16}\\\", \\\"LabelAllocations\\\": \\\"{\\\\\\\"instance\\\\\\\": \\\\\\\"instance-00000fea\\\\\\\", \\\\\\\"instance_parent\\\\\\\": \\\\\\\"max-w4.fabric-testbed.net\\\\\\\"}\\\", \\\"ReservationInfo\\\": \\\"{\\\\\\\"error_message\\\\\\\": \\\\\\\"\\\\\\\", \\\\\\\"reservation_id\\\\\\\": \\\\\\\"8bea986d-52b6-471e-872c-ce26436aab91\\\\\\\", \\\\\\\"reservation_state\\\\\\\": \\\\\\\"Active\\\\\\\"}\\\", \\\"NodeMap\\\": \\\"[\\\\\\\"508c3fa3-df17-41ab-bb95-fdf71c105a61\\\\\\\", \\\\\\\"HW2FZB3\\\\\\\"]\\\", \\\"StitchNode\\\": \\\"false\\\", \\\"ImageRef\\\": \\\"default_centos_8,qcow2\\\", \\\"MgmtIp\\\": \\\"63.239.135.76\\\", \\\"Site\\\": \\\"MAX\\\"}\",\n",
      "    \"sliver_type\": \"NodeSliver\"\n",
      "}, {\n",
      "    \"graph_node_id\": \"1b985187-bff3-468a-a2cf-83132b2e1221\",\n",
      "    \"join_state\": \"NoJoin\",\n",
      "    \"lease_end\": \"2022-03-23 20:59:31\",\n",
      "    \"lease_start\": \"2022-03-22 20:59:31\",\n",
      "    \"notices\": \"Reservation 40ab1546-13d8-47ca-becf-cccae7aff653 (Slice jiabhi_slice(646fc2bf-abd9-4dd8-b6e9-8a6bb4427945) Graph Id:1051c6b0-b5ab-4d87-8951-c189f78ae09a Owner:ajinda10@asu.edu) is in state (Active,None_) \",\n",
      "    \"pending_state\": \"None_\",\n",
      "    \"reservation_id\": \"40ab1546-13d8-47ca-becf-cccae7aff653\",\n",
      "    \"reservation_state\": \"Active\",\n",
      "    \"slice_id\": \"646fc2bf-abd9-4dd8-b6e9-8a6bb4427945\",\n",
      "    \"sliver\": \"{\\\"Name\\\": \\\"node1\\\", \\\"Type\\\": \\\"VM\\\", \\\"Capacities\\\": \\\"{\\\\\\\"core\\\\\\\": 2, \\\\\\\"disk\\\\\\\": 100, \\\\\\\"ram\\\\\\\": 16}\\\", \\\"CapacityHints\\\": \\\"{\\\\\\\"instance_type\\\\\\\": \\\\\\\"fabric.c4.m16.d100\\\\\\\"}\\\", \\\"CapacityAllocations\\\": \\\"{\\\\\\\"core\\\\\\\": 4, \\\\\\\"disk\\\\\\\": 100, \\\\\\\"ram\\\\\\\": 16}\\\", \\\"LabelAllocations\\\": \\\"{\\\\\\\"instance\\\\\\\": \\\\\\\"instance-00000feb\\\\\\\", \\\\\\\"instance_parent\\\\\\\": \\\\\\\"max-w4.fabric-testbed.net\\\\\\\"}\\\", \\\"ReservationInfo\\\": \\\"{\\\\\\\"error_message\\\\\\\": \\\\\\\"\\\\\\\", \\\\\\\"reservation_id\\\\\\\": \\\\\\\"40ab1546-13d8-47ca-becf-cccae7aff653\\\\\\\", \\\\\\\"reservation_state\\\\\\\": \\\\\\\"Active\\\\\\\"}\\\", \\\"NodeMap\\\": \\\"[\\\\\\\"508c3fa3-df17-41ab-bb95-fdf71c105a61\\\\\\\", \\\\\\\"HW2FZB3\\\\\\\"]\\\", \\\"StitchNode\\\": \\\"false\\\", \\\"ImageRef\\\": \\\"default_centos_8,qcow2\\\", \\\"MgmtIp\\\": \\\"63.239.135.89\\\", \\\"Site\\\": \\\"MAX\\\"}\",\n",
      "    \"sliver_type\": \"NodeSliver\"\n",
      "}]\n"
     ]
    }
   ],
   "source": [
    "print(slivers)"
   ]
  },
  {
   "cell_type": "code",
   "execution_count": 1,
   "id": "f1901357-144b-4656-8cdf-291eae008cca",
   "metadata": {},
   "outputs": [
    {
     "ename": "TimeoutError",
     "evalue": "[Errno 110] Connection timed out",
     "output_type": "error",
     "traceback": [
      "\u001b[0;31m---------------------------------------------------------------------------\u001b[0m",
      "\u001b[0;31mTimeoutError\u001b[0m                              Traceback (most recent call last)",
      "\u001b[0;32m/tmp/ipykernel_180/427418930.py\u001b[0m in \u001b[0;36m<module>\u001b[0;34m\u001b[0m\n\u001b[1;32m      6\u001b[0m \u001b[0;34m\u001b[0m\u001b[0m\n\u001b[1;32m      7\u001b[0m \u001b[0mclient1\u001b[0m\u001b[0;34m.\u001b[0m\u001b[0mset_missing_host_key_policy\u001b[0m\u001b[0;34m(\u001b[0m\u001b[0mparamiko\u001b[0m\u001b[0;34m.\u001b[0m\u001b[0mAutoAddPolicy\u001b[0m\u001b[0;34m(\u001b[0m\u001b[0;34m)\u001b[0m\u001b[0;34m)\u001b[0m\u001b[0;34m\u001b[0m\u001b[0;34m\u001b[0m\u001b[0m\n\u001b[0;32m----> 8\u001b[0;31m \u001b[0mclient1\u001b[0m\u001b[0;34m.\u001b[0m\u001b[0mconnect\u001b[0m\u001b[0;34m(\u001b[0m\u001b[0;34m'63.239.135.74'\u001b[0m\u001b[0;34m,\u001b[0m\u001b[0musername\u001b[0m\u001b[0;34m=\u001b[0m\u001b[0;34m'centos'\u001b[0m\u001b[0;34m,\u001b[0m\u001b[0mpkey\u001b[0m \u001b[0;34m=\u001b[0m \u001b[0mkey\u001b[0m\u001b[0;34m)\u001b[0m\u001b[0;34m\u001b[0m\u001b[0;34m\u001b[0m\u001b[0m\n\u001b[0m\u001b[1;32m      9\u001b[0m \u001b[0mclient\u001b[0m\u001b[0;34m.\u001b[0m\u001b[0mclose\u001b[0m\u001b[0;34m(\u001b[0m\u001b[0;34m)\u001b[0m\u001b[0;34m\u001b[0m\u001b[0;34m\u001b[0m\u001b[0m\n",
      "\u001b[0;32m/opt/conda/lib/python3.9/site-packages/paramiko/client.py\u001b[0m in \u001b[0;36mconnect\u001b[0;34m(self, hostname, port, username, password, pkey, key_filename, timeout, allow_agent, look_for_keys, compress, sock, gss_auth, gss_kex, gss_deleg_creds, gss_host, banner_timeout, auth_timeout, gss_trust_dns, passphrase, disabled_algorithms)\u001b[0m\n\u001b[1;32m    347\u001b[0m                         \u001b[0;32mexcept\u001b[0m\u001b[0;34m:\u001b[0m\u001b[0;34m\u001b[0m\u001b[0;34m\u001b[0m\u001b[0m\n\u001b[1;32m    348\u001b[0m                             \u001b[0;32mpass\u001b[0m\u001b[0;34m\u001b[0m\u001b[0;34m\u001b[0m\u001b[0m\n\u001b[0;32m--> 349\u001b[0;31m                     \u001b[0mretry_on_signal\u001b[0m\u001b[0;34m(\u001b[0m\u001b[0;32mlambda\u001b[0m\u001b[0;34m:\u001b[0m \u001b[0msock\u001b[0m\u001b[0;34m.\u001b[0m\u001b[0mconnect\u001b[0m\u001b[0;34m(\u001b[0m\u001b[0maddr\u001b[0m\u001b[0;34m)\u001b[0m\u001b[0;34m)\u001b[0m\u001b[0;34m\u001b[0m\u001b[0;34m\u001b[0m\u001b[0m\n\u001b[0m\u001b[1;32m    350\u001b[0m                     \u001b[0;31m# Break out of the loop on success\u001b[0m\u001b[0;34m\u001b[0m\u001b[0;34m\u001b[0m\u001b[0;34m\u001b[0m\u001b[0m\n\u001b[1;32m    351\u001b[0m                     \u001b[0;32mbreak\u001b[0m\u001b[0;34m\u001b[0m\u001b[0;34m\u001b[0m\u001b[0m\n",
      "\u001b[0;32m/opt/conda/lib/python3.9/site-packages/paramiko/util.py\u001b[0m in \u001b[0;36mretry_on_signal\u001b[0;34m(function)\u001b[0m\n\u001b[1;32m    281\u001b[0m     \u001b[0;32mwhile\u001b[0m \u001b[0;32mTrue\u001b[0m\u001b[0;34m:\u001b[0m\u001b[0;34m\u001b[0m\u001b[0;34m\u001b[0m\u001b[0m\n\u001b[1;32m    282\u001b[0m         \u001b[0;32mtry\u001b[0m\u001b[0;34m:\u001b[0m\u001b[0;34m\u001b[0m\u001b[0;34m\u001b[0m\u001b[0m\n\u001b[0;32m--> 283\u001b[0;31m             \u001b[0;32mreturn\u001b[0m \u001b[0mfunction\u001b[0m\u001b[0;34m(\u001b[0m\u001b[0;34m)\u001b[0m\u001b[0;34m\u001b[0m\u001b[0;34m\u001b[0m\u001b[0m\n\u001b[0m\u001b[1;32m    284\u001b[0m         \u001b[0;32mexcept\u001b[0m \u001b[0mEnvironmentError\u001b[0m \u001b[0;32mas\u001b[0m \u001b[0me\u001b[0m\u001b[0;34m:\u001b[0m\u001b[0;34m\u001b[0m\u001b[0;34m\u001b[0m\u001b[0m\n\u001b[1;32m    285\u001b[0m             \u001b[0;32mif\u001b[0m \u001b[0me\u001b[0m\u001b[0;34m.\u001b[0m\u001b[0merrno\u001b[0m \u001b[0;34m!=\u001b[0m \u001b[0merrno\u001b[0m\u001b[0;34m.\u001b[0m\u001b[0mEINTR\u001b[0m\u001b[0;34m:\u001b[0m\u001b[0;34m\u001b[0m\u001b[0;34m\u001b[0m\u001b[0m\n",
      "\u001b[0;32m/opt/conda/lib/python3.9/site-packages/paramiko/client.py\u001b[0m in \u001b[0;36m<lambda>\u001b[0;34m()\u001b[0m\n\u001b[1;32m    347\u001b[0m                         \u001b[0;32mexcept\u001b[0m\u001b[0;34m:\u001b[0m\u001b[0;34m\u001b[0m\u001b[0;34m\u001b[0m\u001b[0m\n\u001b[1;32m    348\u001b[0m                             \u001b[0;32mpass\u001b[0m\u001b[0;34m\u001b[0m\u001b[0;34m\u001b[0m\u001b[0m\n\u001b[0;32m--> 349\u001b[0;31m                     \u001b[0mretry_on_signal\u001b[0m\u001b[0;34m(\u001b[0m\u001b[0;32mlambda\u001b[0m\u001b[0;34m:\u001b[0m \u001b[0msock\u001b[0m\u001b[0;34m.\u001b[0m\u001b[0mconnect\u001b[0m\u001b[0;34m(\u001b[0m\u001b[0maddr\u001b[0m\u001b[0;34m)\u001b[0m\u001b[0;34m)\u001b[0m\u001b[0;34m\u001b[0m\u001b[0;34m\u001b[0m\u001b[0m\n\u001b[0m\u001b[1;32m    350\u001b[0m                     \u001b[0;31m# Break out of the loop on success\u001b[0m\u001b[0;34m\u001b[0m\u001b[0;34m\u001b[0m\u001b[0;34m\u001b[0m\u001b[0m\n\u001b[1;32m    351\u001b[0m                     \u001b[0;32mbreak\u001b[0m\u001b[0;34m\u001b[0m\u001b[0;34m\u001b[0m\u001b[0m\n",
      "\u001b[0;31mTimeoutError\u001b[0m: [Errno 110] Connection timed out"
     ]
    }
   ],
   "source": [
    "import paramiko\n",
    "key = paramiko.RSAKey.from_private_key_file(\"/home/fabric/work/keys/jiabhi_sliver\")\n",
    "client1 = paramiko.SSHClient()\n",
    "client1.load_system_host_keys()\n",
    "client1.set_missing_host_key_policy(paramiko.MissingHostKeyPolicy())\n",
    "\n",
    "client1.set_missing_host_key_policy(paramiko.AutoAddPolicy())\n",
    "client1.connect('63.239.135.74',username='centos',pkey = key)\n",
    "client.close()"
   ]
  },
  {
   "cell_type": "code",
   "execution_count": null,
   "id": "e814b221-7f1f-44a5-a92e-2bfee2c14ed1",
   "metadata": {},
   "outputs": [],
   "source": [
    "import os\n",
    "from fabric_cm.credmgr.credmgr_proxy import CredmgrProxy\n",
    "from fabric_cf.orchestrator.orchestrator_proxy import OrchestratorProxy\n",
    "import json"
   ]
  },
  {
   "cell_type": "code",
   "execution_count": null,
   "id": "869f73ec-9862-4d3c-99da-570c14c9db72",
   "metadata": {},
   "outputs": [],
   "source": [
    "credmgr_host = os.environ['FABRIC_CREDMGR_HOST']\n",
    "credmgr_proxy = CredmgrProxy(credmgr_host=credmgr_host)\n",
    "orchestrator_host = os.environ['FABRIC_ORCHESTRATOR_HOST']\n",
    "orchestrator_proxy = OrchestratorProxy(orchestrator_host=orchestrator_host)"
   ]
  },
  {
   "cell_type": "code",
   "execution_count": null,
   "id": "4004f5cd-9c96-4731-b637-31c95b1671e6",
   "metadata": {},
   "outputs": [],
   "source": [
    "not_found=False\n",
    "fabric_refresh_token=None\n",
    "%store -r fabric_refresh_token\n",
    "\n",
    "if fabric_refresh_token is None:\n",
    "    fabric_refresh_token=os.environ['CILOGON_REFRESH_TOKEN']\n",
    "    %store fabric_refresh_token\n",
    "print(\"Fabric Refresh Token {}\".format(fabric_refresh_token))\n",
    "print(\"CILOGON_REFRESH_TOKEN environment variable: {}\".format(os.environ['CILOGON_REFRESH_TOKEN']))"
   ]
  },
  {
   "cell_type": "code",
   "execution_count": null,
   "id": "d7e580f8-1819-42fd-b253-b56b55285179",
   "metadata": {},
   "outputs": [],
   "source": [
    "try:\n",
    "    refresh_res = credmgr_proxy.refresh(project_name='all', scope='all', refresh_token=fabric_refresh_token)\n",
    "    print(refresh_res)\n",
    "    print(\"New Tokens received: {}\".format(json.dumps(refresh_res)))\n",
    "    fabric_id_token=refresh_res['id_token']\n",
    "    fabric_refresh_token=refresh_res['refresh_token']\n",
    "    print()\n",
    "    print(\"New Refresh Token: {}\".format(fabric_refresh_token))\n",
    "    print()\n",
    "    print(\"Stored new Refresh Token\")\n",
    "    %store fabric_refresh_token\n",
    "except Exception as e:\n",
    "    print(\"Exception occurred while getting tokens:{}\".format(e))"
   ]
  },
  {
   "cell_type": "code",
   "execution_count": 18,
   "id": "3d6e2fc7-8a75-4586-81d5-2805bd6f41a6",
   "metadata": {},
   "outputs": [
    {
     "name": "stdout",
     "output_type": "stream",
     "text": [
      "Bastion Public Addr:           bastion-1.fabric-testbed.net\n",
      "Bastion Private IPv4 Addr:     152.54.15.12\n",
      "Bastion Private IPv6 Addr:     2600:2701:5000:a902::c\n",
      "Bastion Username:              ajinda10_0051550143\n",
      "Bastion Private Keyfile:       /home/fabric/work/keys/jiabhi_bastion\n",
      "Experiment Private Keyfile:    /home/fabric/work/keys/jiabhi_sliver\n",
      "Experiment Public Keyfile:     /home/fabric/work/keys/jiabhi_sliver.pub\n",
      "FABRIC Credential Manager:     cm.fabric-testbed.net\n",
      "FABRIC Orchestrator:           orchestrator.fabric-testbed.net\n"
     ]
    }
   ],
   "source": [
    "import os\n",
    "from fabrictestbed.slice_manager import SliceManager, Status, SliceState\n",
    "import json\n",
    "\n",
    "bastion_public_addr = 'bastion-1.fabric-testbed.net'\n",
    "bastion_private_ipv4_addr = '152.54.15.12'\n",
    "bastion_private_ipv6_addr = '2600:2701:5000:a902::c'\n",
    "print(\"Bastion Public Addr:           {}\".format(bastion_public_addr))\n",
    "print(\"Bastion Private IPv4 Addr:     {}\".format(bastion_private_ipv4_addr))\n",
    "print(\"Bastion Private IPv6 Addr:     {}\".format(bastion_private_ipv6_addr))\n",
    "\n",
    "\n",
    "bastion_username = 'ajinda10_0051550143'\n",
    "print(\"Bastion Username:              {}\".format(bastion_username))\n",
    "\n",
    "bastion_key_filename = os.environ['HOME'] + \"/work/keys/jiabhi_bastion\"\n",
    "print(\"Bastion Private Keyfile:       {}\".format(bastion_key_filename))\n",
    "\n",
    "ssh_key_file_priv=os.environ['HOME']+\"/work/keys/jiabhi_sliver\"\n",
    "print(\"Experiment Private Keyfile:    {}\".format(ssh_key_file_priv))\n",
    "\n",
    "ssh_key_file_pub=os.environ['HOME']+\"/work/keys/jiabhi_sliver.pub\"\n",
    "print(\"Experiment Public Keyfile:     {}\".format(ssh_key_file_pub))\n",
    "\n",
    "\n",
    "ssh_key_pub = None\n",
    "with open (ssh_key_file_pub, \"r\") as myfile:\n",
    "    ssh_key_pub=myfile.read()\n",
    "    ssh_key_pub=ssh_key_pub.strip()\n",
    "\n",
    "credmgr_host = os.environ['FABRIC_CREDMGR_HOST']\n",
    "print(f\"FABRIC Credential Manager:     {credmgr_host}\")\n",
    "\n",
    "orchestrator_host = os.environ['FABRIC_ORCHESTRATOR_HOST']\n",
    "print(f\"FABRIC Orchestrator:           {orchestrator_host}\")"
   ]
  },
  {
   "cell_type": "code",
   "execution_count": 19,
   "id": "12360cac-634a-41b1-afca-a70ef2ec14c1",
   "metadata": {},
   "outputs": [
    {
     "name": "stdout",
     "output_type": "stream",
     "text": [
      "ssh -i /home/fabric/work/keys/jiabhi_sliver -J ajinda10_0051550143@bastion-1.fabric-testbed.net centos@63.239.135.76\n"
     ]
    }
   ],
   "source": [
    "print('ssh -i {} -J {}@{} {}@{}'.format(ssh_key_file_priv,\n",
    "                                           bastion_username,\n",
    "                                           bastion_public_addr,\n",
    "                                           'centos',\n",
    "                                           management_ip))"
   ]
  },
  {
   "cell_type": "code",
   "execution_count": 21,
   "id": "1470aa36-412a-49d9-bb51-f4fc714096f4",
   "metadata": {},
   "outputs": [
    {
     "name": "stdout",
     "output_type": "stream",
     "text": [
      "/home/fabric/work/keys/jiabhi_sliver\n",
      "('192.168.11.226', 22)\n"
     ]
    },
    {
     "ename": "AuthenticationException",
     "evalue": "Authentication failed.",
     "output_type": "error",
     "traceback": [
      "\u001b[0;31m---------------------------------------------------------------------------\u001b[0m",
      "\u001b[0;31mAuthenticationException\u001b[0m                   Traceback (most recent call last)",
      "\u001b[0;32m/tmp/ipykernel_180/1731210399.py\u001b[0m in \u001b[0;36m<module>\u001b[0;34m\u001b[0m\n\u001b[1;32m     27\u001b[0m \u001b[0mclient\u001b[0m\u001b[0;34m.\u001b[0m\u001b[0mset_missing_host_key_policy\u001b[0m\u001b[0;34m(\u001b[0m\u001b[0mparamiko\u001b[0m\u001b[0;34m.\u001b[0m\u001b[0mAutoAddPolicy\u001b[0m\u001b[0;34m(\u001b[0m\u001b[0;34m)\u001b[0m\u001b[0;34m)\u001b[0m\u001b[0;34m\u001b[0m\u001b[0;34m\u001b[0m\u001b[0m\n\u001b[1;32m     28\u001b[0m \u001b[0;34m\u001b[0m\u001b[0m\n\u001b[0;32m---> 29\u001b[0;31m \u001b[0mclient\u001b[0m\u001b[0;34m.\u001b[0m\u001b[0mconnect\u001b[0m\u001b[0;34m(\u001b[0m\u001b[0mmanagement_ip\u001b[0m\u001b[0;34m,\u001b[0m\u001b[0musername\u001b[0m\u001b[0;34m=\u001b[0m\u001b[0;34m'ubuntu'\u001b[0m\u001b[0;34m,\u001b[0m\u001b[0mpkey\u001b[0m \u001b[0;34m=\u001b[0m \u001b[0mkey\u001b[0m\u001b[0;34m,\u001b[0m \u001b[0msock\u001b[0m\u001b[0;34m=\u001b[0m\u001b[0mbastion_channel\u001b[0m\u001b[0;34m)\u001b[0m\u001b[0;34m\u001b[0m\u001b[0;34m\u001b[0m\u001b[0m\n\u001b[0m\u001b[1;32m     30\u001b[0m \u001b[0;34m\u001b[0m\u001b[0m\n\u001b[1;32m     31\u001b[0m \u001b[0;31m# stdin, stdout, stderr = client.exec_command('echo \\\"' + script + '\\\" > script.sh; chmod +x script.sh; sudo ./script.sh')\u001b[0m\u001b[0;34m\u001b[0m\u001b[0;34m\u001b[0m\u001b[0;34m\u001b[0m\u001b[0m\n",
      "\u001b[0;32m/opt/conda/lib/python3.9/site-packages/paramiko/client.py\u001b[0m in \u001b[0;36mconnect\u001b[0;34m(self, hostname, port, username, password, pkey, key_filename, timeout, allow_agent, look_for_keys, compress, sock, gss_auth, gss_kex, gss_deleg_creds, gss_host, banner_timeout, auth_timeout, gss_trust_dns, passphrase, disabled_algorithms)\u001b[0m\n\u001b[1;32m    433\u001b[0m             \u001b[0mkey_filenames\u001b[0m \u001b[0;34m=\u001b[0m \u001b[0mkey_filename\u001b[0m\u001b[0;34m\u001b[0m\u001b[0;34m\u001b[0m\u001b[0m\n\u001b[1;32m    434\u001b[0m \u001b[0;34m\u001b[0m\u001b[0m\n\u001b[0;32m--> 435\u001b[0;31m         self._auth(\n\u001b[0m\u001b[1;32m    436\u001b[0m             \u001b[0musername\u001b[0m\u001b[0;34m,\u001b[0m\u001b[0;34m\u001b[0m\u001b[0;34m\u001b[0m\u001b[0m\n\u001b[1;32m    437\u001b[0m             \u001b[0mpassword\u001b[0m\u001b[0;34m,\u001b[0m\u001b[0;34m\u001b[0m\u001b[0;34m\u001b[0m\u001b[0m\n",
      "\u001b[0;32m/opt/conda/lib/python3.9/site-packages/paramiko/client.py\u001b[0m in \u001b[0;36m_auth\u001b[0;34m(self, username, password, pkey, key_filenames, allow_agent, look_for_keys, gss_auth, gss_kex, gss_deleg_creds, gss_host, passphrase)\u001b[0m\n\u001b[1;32m    764\u001b[0m         \u001b[0;31m# if we got an auth-failed exception earlier, re-raise it\u001b[0m\u001b[0;34m\u001b[0m\u001b[0;34m\u001b[0m\u001b[0;34m\u001b[0m\u001b[0m\n\u001b[1;32m    765\u001b[0m         \u001b[0;32mif\u001b[0m \u001b[0msaved_exception\u001b[0m \u001b[0;32mis\u001b[0m \u001b[0;32mnot\u001b[0m \u001b[0;32mNone\u001b[0m\u001b[0;34m:\u001b[0m\u001b[0;34m\u001b[0m\u001b[0;34m\u001b[0m\u001b[0m\n\u001b[0;32m--> 766\u001b[0;31m             \u001b[0;32mraise\u001b[0m \u001b[0msaved_exception\u001b[0m\u001b[0;34m\u001b[0m\u001b[0;34m\u001b[0m\u001b[0m\n\u001b[0m\u001b[1;32m    767\u001b[0m         \u001b[0;32mraise\u001b[0m \u001b[0mSSHException\u001b[0m\u001b[0;34m(\u001b[0m\u001b[0;34m\"No authentication methods available\"\u001b[0m\u001b[0;34m)\u001b[0m\u001b[0;34m\u001b[0m\u001b[0;34m\u001b[0m\u001b[0m\n\u001b[1;32m    768\u001b[0m \u001b[0;34m\u001b[0m\u001b[0m\n",
      "\u001b[0;32m/opt/conda/lib/python3.9/site-packages/paramiko/client.py\u001b[0m in \u001b[0;36m_auth\u001b[0;34m(self, username, password, pkey, key_filenames, allow_agent, look_for_keys, gss_auth, gss_kex, gss_deleg_creds, gss_host, passphrase)\u001b[0m\n\u001b[1;32m    740\u001b[0m                     \u001b[0;31m# in ['password']\u001b[0m\u001b[0;34m\u001b[0m\u001b[0;34m\u001b[0m\u001b[0;34m\u001b[0m\u001b[0m\n\u001b[1;32m    741\u001b[0m                     allowed_types = set(\n\u001b[0;32m--> 742\u001b[0;31m                         \u001b[0mself\u001b[0m\u001b[0;34m.\u001b[0m\u001b[0m_transport\u001b[0m\u001b[0;34m.\u001b[0m\u001b[0mauth_publickey\u001b[0m\u001b[0;34m(\u001b[0m\u001b[0musername\u001b[0m\u001b[0;34m,\u001b[0m \u001b[0mkey\u001b[0m\u001b[0;34m)\u001b[0m\u001b[0;34m\u001b[0m\u001b[0;34m\u001b[0m\u001b[0m\n\u001b[0m\u001b[1;32m    743\u001b[0m                     )\n\u001b[1;32m    744\u001b[0m                     \u001b[0mtwo_factor\u001b[0m \u001b[0;34m=\u001b[0m \u001b[0mallowed_types\u001b[0m \u001b[0;34m&\u001b[0m \u001b[0mtwo_factor_types\u001b[0m\u001b[0;34m\u001b[0m\u001b[0;34m\u001b[0m\u001b[0m\n",
      "\u001b[0;32m/opt/conda/lib/python3.9/site-packages/paramiko/transport.py\u001b[0m in \u001b[0;36mauth_publickey\u001b[0;34m(self, username, key, event)\u001b[0m\n\u001b[1;32m   1632\u001b[0m             \u001b[0;31m# caller wants to wait for event themselves\u001b[0m\u001b[0;34m\u001b[0m\u001b[0;34m\u001b[0m\u001b[0;34m\u001b[0m\u001b[0m\n\u001b[1;32m   1633\u001b[0m             \u001b[0;32mreturn\u001b[0m \u001b[0;34m[\u001b[0m\u001b[0;34m]\u001b[0m\u001b[0;34m\u001b[0m\u001b[0;34m\u001b[0m\u001b[0m\n\u001b[0;32m-> 1634\u001b[0;31m         \u001b[0;32mreturn\u001b[0m \u001b[0mself\u001b[0m\u001b[0;34m.\u001b[0m\u001b[0mauth_handler\u001b[0m\u001b[0;34m.\u001b[0m\u001b[0mwait_for_response\u001b[0m\u001b[0;34m(\u001b[0m\u001b[0mmy_event\u001b[0m\u001b[0;34m)\u001b[0m\u001b[0;34m\u001b[0m\u001b[0;34m\u001b[0m\u001b[0m\n\u001b[0m\u001b[1;32m   1635\u001b[0m \u001b[0;34m\u001b[0m\u001b[0m\n\u001b[1;32m   1636\u001b[0m     \u001b[0;32mdef\u001b[0m \u001b[0mauth_interactive\u001b[0m\u001b[0;34m(\u001b[0m\u001b[0mself\u001b[0m\u001b[0;34m,\u001b[0m \u001b[0musername\u001b[0m\u001b[0;34m,\u001b[0m \u001b[0mhandler\u001b[0m\u001b[0;34m,\u001b[0m \u001b[0msubmethods\u001b[0m\u001b[0;34m=\u001b[0m\u001b[0;34m\"\"\u001b[0m\u001b[0;34m)\u001b[0m\u001b[0;34m:\u001b[0m\u001b[0;34m\u001b[0m\u001b[0;34m\u001b[0m\u001b[0m\n",
      "\u001b[0;32m/opt/conda/lib/python3.9/site-packages/paramiko/auth_handler.py\u001b[0m in \u001b[0;36mwait_for_response\u001b[0;34m(self, event)\u001b[0m\n\u001b[1;32m    256\u001b[0m             \u001b[0;32mif\u001b[0m \u001b[0missubclass\u001b[0m\u001b[0;34m(\u001b[0m\u001b[0me\u001b[0m\u001b[0;34m.\u001b[0m\u001b[0m__class__\u001b[0m\u001b[0;34m,\u001b[0m \u001b[0mPartialAuthentication\u001b[0m\u001b[0;34m)\u001b[0m\u001b[0;34m:\u001b[0m\u001b[0;34m\u001b[0m\u001b[0;34m\u001b[0m\u001b[0m\n\u001b[1;32m    257\u001b[0m                 \u001b[0;32mreturn\u001b[0m \u001b[0me\u001b[0m\u001b[0;34m.\u001b[0m\u001b[0mallowed_types\u001b[0m\u001b[0;34m\u001b[0m\u001b[0;34m\u001b[0m\u001b[0m\n\u001b[0;32m--> 258\u001b[0;31m             \u001b[0;32mraise\u001b[0m \u001b[0me\u001b[0m\u001b[0;34m\u001b[0m\u001b[0;34m\u001b[0m\u001b[0m\n\u001b[0m\u001b[1;32m    259\u001b[0m         \u001b[0;32mreturn\u001b[0m \u001b[0;34m[\u001b[0m\u001b[0;34m]\u001b[0m\u001b[0;34m\u001b[0m\u001b[0;34m\u001b[0m\u001b[0m\n\u001b[1;32m    260\u001b[0m \u001b[0;34m\u001b[0m\u001b[0m\n",
      "\u001b[0;31mAuthenticationException\u001b[0m: Authentication failed."
     ]
    }
   ],
   "source": [
    "import paramiko\n",
    "management_ip = '63.239.135.76'\n",
    "#print(\"Node {0} IP {1}\".format(node.name, management_ip))\n",
    "print(ssh_key_file_priv)\n",
    "key = paramiko.RSAKey.from_private_key_file(ssh_key_file_priv)\n",
    "\n",
    "bastion=paramiko.SSHClient()\n",
    "bastion.set_missing_host_key_policy(paramiko.AutoAddPolicy())\n",
    "bastion.connect(bastion_public_addr, username=bastion_username, key_filename=bastion_key_filename)\n",
    "\n",
    "bastion_transport = bastion.get_transport()\n",
    "# if validIPAddress(management_ip) == 'IPv4':\n",
    "#     src_addr = (bastion_private_ipv4_addr, 22)\n",
    "# elif validIPAddress(management_ip) == 'IPv6':\n",
    "#     src_addr = (bastion_private_ipv6_addr, 22)\n",
    "# else:\n",
    "#     print('Management IP Invalid: {}'.format(management_ip))\n",
    "src_addr= ('192.168.11.226', 22)\n",
    "dest_addr = (management_ip, 22)\n",
    "print(src_addr)\n",
    "bastion_channel = bastion_transport.open_channel(\"direct-tcpip\", dest_addr, src_addr)\n",
    "\n",
    "\n",
    "client = paramiko.SSHClient()\n",
    "client.load_system_host_keys()\n",
    "client.set_missing_host_key_policy(paramiko.MissingHostKeyPolicy())\n",
    "client.set_missing_host_key_policy(paramiko.AutoAddPolicy())\n",
    "\n",
    "client.connect(management_ip,username='ubuntu',pkey = key, sock=bastion_channel)\n",
    "\n",
    "# stdin, stdout, stderr = client.exec_command('echo \\\"' + script + '\\\" > script.sh; chmod +x script.sh; sudo ./script.sh')\n",
    "# stdout_str = str(stdout.read(),'utf-8').replace('\\\\n','\\n')\n",
    "#print ('')\n",
    "#print (str(stdout.read(),'utf-8').replace('\\\\n','\\n'))\n",
    "#print (stdout_str)\n",
    "\n",
    "client.close()"
   ]
  },
  {
   "cell_type": "code",
   "execution_count": null,
   "id": "7d68eeba-f8cb-40f6-8597-e00564a6305b",
   "metadata": {},
   "outputs": [],
   "source": [
    "import paramiko\n",
    "key = paramiko.RSAKey.from_private_key_file(\"/home/fabric/work/keys/jiabhi_sliver\")\n",
    "client1 = paramiko.SSHClient()\n",
    "client1.load_system_host_keys()\n",
    "client1.set_missing_host_key_policy(paramiko.MissingHostKeyPolicy())\n",
    "\n",
    "client1.set_missing_host_key_policy(paramiko.AutoAddPolicy())\n",
    "client1.connect('63.239.135.74',username='centos',pkey = key, sock=bastion_channel)"
   ]
  },
  {
   "cell_type": "code",
   "execution_count": 19,
   "id": "f0738160-709b-499f-843a-4f4844cce38c",
   "metadata": {},
   "outputs": [
    {
     "name": "stdout",
     "output_type": "stream",
     "text": [
      "/home/fabric/work/jupyter-examples/fabric_examples\n"
     ]
    }
   ],
   "source": [
    "!cd /home/fabric/work/\n",
    "!pwd"
   ]
  },
  {
   "cell_type": "code",
   "execution_count": 20,
   "id": "6dd11e68-19c3-41e4-9648-430b84eb8ee3",
   "metadata": {},
   "outputs": [
    {
     "name": "stdout",
     "output_type": "stream",
     "text": [
      "Seed:\t1645058662\n",
      "0, 3\n",
      "Adding t-way interactions\n",
      "Went over 19 columns\n",
      "Finished constructing CS Matrix\n",
      "Original linear LA Score: 342\n",
      "The matrix now has 1 rows\n",
      "Score after finalized row: 174\n",
      "The matrix now has 2 rows\n",
      "Score after finalized row: 84\n",
      "The matrix now has 3 rows\n",
      "Score after finalized row: 42\n",
      "The matrix now has 4 rows\n",
      "Score after finalized row: 22\n",
      "The matrix now has 5 rows\n",
      "Score after finalized row: 8\n",
      "The matrix now has 6 rows\n",
      "Score after finalized row: 4\n",
      "The matrix now has 7 rows\n",
      "Score after finalized row: 4\n",
      "The matrix now has 8 rows\n",
      "Score after finalized row: 0\n",
      "Complete LA created with score: 0\n",
      "Rows: 8\n",
      "\n",
      "Other Stuff:\n",
      "Columns in CSMatrix: 19\n"
     ]
    }
   ],
   "source": [
    "la_generator_dir = '/home/fabric/work/v4-la-tools/'\n",
    "!$la_generator_dir/Search $la_generator_dir/LA/Jiabhi_Experiment_LA_Header.tsv $la_generator_dir/FD/Jiabhi_Experiment_Factors.tsv fixla OUT.tsv"
   ]
  },
  {
   "cell_type": "code",
   "execution_count": 21,
   "id": "b5d9a11e-1dd0-424d-8d98-087166179168",
   "metadata": {},
   "outputs": [
    {
     "name": "stdout",
     "output_type": "stream",
     "text": [
      "['core', 'ram', 'disk']\n",
      "[[2, 4], [8, 16], [100, 200]]\n"
     ]
    }
   ],
   "source": [
    "import csv\n",
    "factors_dir = la_generator_dir+'FD/'\n",
    "factors_tsv_file = open(factors_dir+'Jiabhi_Experiment_Factors.tsv')\n",
    "read_tsv = csv.reader(factors_tsv_file, delimiter=\"\\t\")\n",
    "parameters=[]\n",
    "param_values=[]\n",
    "next(read_tsv)\n",
    "for row in read_tsv:\n",
    "#     print(row)\n",
    "    parameters.append(row[0])\n",
    "    param_values.append(list(map(int, row[3:])))\n",
    "print(parameters)\n",
    "print(param_values)"
   ]
  },
  {
   "cell_type": "code",
   "execution_count": 22,
   "id": "10d0b228-4478-4864-96ba-a1a02bcf2b12",
   "metadata": {},
   "outputs": [
    {
     "ename": "FileNotFoundError",
     "evalue": "[Errno 2] No such file or directory: '/home/fabric/work/v4-la-tools/FD/Jiabhi_Experiment_LA_Header.tsv'",
     "output_type": "error",
     "traceback": [
      "\u001b[0;31m---------------------------------------------------------------------------\u001b[0m",
      "\u001b[0;31mFileNotFoundError\u001b[0m                         Traceback (most recent call last)",
      "\u001b[0;32m/tmp/ipykernel_311/2217328291.py\u001b[0m in \u001b[0;36m<module>\u001b[0;34m\u001b[0m\n\u001b[1;32m      1\u001b[0m \u001b[0mla_dir\u001b[0m \u001b[0;34m=\u001b[0m \u001b[0mla_generator_dir\u001b[0m\u001b[0;34m+\u001b[0m\u001b[0;34m'LA/'\u001b[0m\u001b[0;34m\u001b[0m\u001b[0;34m\u001b[0m\u001b[0m\n\u001b[0;32m----> 2\u001b[0;31m \u001b[0mfactors_tsv_file\u001b[0m \u001b[0;34m=\u001b[0m \u001b[0mopen\u001b[0m\u001b[0;34m(\u001b[0m\u001b[0mfactors_dir\u001b[0m\u001b[0;34m+\u001b[0m\u001b[0;34m'Jiabhi_Experiment_LA_Header.tsv'\u001b[0m\u001b[0;34m)\u001b[0m\u001b[0;34m\u001b[0m\u001b[0;34m\u001b[0m\u001b[0m\n\u001b[0m\u001b[1;32m      3\u001b[0m \u001b[0mread_tsv\u001b[0m \u001b[0;34m=\u001b[0m \u001b[0mcsv\u001b[0m\u001b[0;34m.\u001b[0m\u001b[0mreader\u001b[0m\u001b[0;34m(\u001b[0m\u001b[0mfactors_tsv_file\u001b[0m\u001b[0;34m,\u001b[0m \u001b[0mdelimiter\u001b[0m\u001b[0;34m=\u001b[0m\u001b[0;34m\"\\t\"\u001b[0m\u001b[0;34m)\u001b[0m\u001b[0;34m\u001b[0m\u001b[0;34m\u001b[0m\u001b[0m\n",
      "\u001b[0;31mFileNotFoundError\u001b[0m: [Errno 2] No such file or directory: '/home/fabric/work/v4-la-tools/FD/Jiabhi_Experiment_LA_Header.tsv'"
     ]
    }
   ],
   "source": [
    "la_dir = la_generator_dir+'LA/'\n",
    "factors_tsv_file = open(factors_dir+'Jiabhi_Experiment_LA_Header.tsv')\n",
    "read_tsv = csv.reader(factors_tsv_file, delimiter=\"\\t\")"
   ]
  },
  {
   "cell_type": "code",
   "execution_count": 23,
   "id": "08183d5e-b72a-485e-88d4-62956253ec65",
   "metadata": {},
   "outputs": [
    {
     "name": "stdout",
     "output_type": "stream",
     "text": [
      "['8', '3']\n",
      "4\n",
      "['2', '2', '2', '']\n",
      "['1', '0', '0', '']\n",
      "['1', '1', '1', '']\n",
      "['0', '1', '0', '']\n",
      "['0', '1', '1', '']\n",
      "['0', '0', '0', '']\n",
      "['1', '1', '0', '']\n",
      "['1', '1', '0', '']\n",
      "['0', '0', '1', '']\n",
      "[[1, 0, 0], [1, 1, 1], [0, 1, 0], [0, 1, 1], [0, 0, 0], [1, 1, 0], [1, 1, 0], [0, 0, 1]]\n"
     ]
    }
   ],
   "source": [
    "output_dir = '/home/fabric/work/jupyter-examples/fabric_examples/'\n",
    "output_file = output_dir+'OUT.tsv'\n",
    "output_tsv_file = open(output_file)\n",
    "read_tsv = csv.reader(output_tsv_file, delimiter=\"\\t\")\n",
    "next(read_tsv)\n",
    "num_rows_cols = next(read_tsv)\n",
    "print(num_rows_cols)\n",
    "cols = int(num_rows_cols[1])+1\n",
    "print(cols)\n",
    "is_header = True\n",
    "param_indexes = []\n",
    "for row in read_tsv:\n",
    "    if len(row)!=cols:\n",
    "        continue\n",
    "    print(row)\n",
    "    if is_header:\n",
    "        is_header = False\n",
    "        continue\n",
    "    param_indexes.append(list(map(int, row[:-1])))\n",
    "print(param_indexes)"
   ]
  },
  {
   "cell_type": "code",
   "execution_count": 27,
   "id": "f21904cf-6bf8-4efd-8a2b-fd55fa5453ed",
   "metadata": {},
   "outputs": [
    {
     "name": "stderr",
     "output_type": "stream",
     "text": [
      "2022-02-17 00:45:06,152 WARNING Retrying (Retry(total=2, connect=None, read=None, redirect=None, status=None)) after connection broken by 'NewConnectionError('<urllib3.connection.HTTPSConnection object at 0x7fe8544352b0>: Failed to establish a new connection: [Errno 101] Network is unreachable')': //slices/create?sliceName=jiabhi_slice2&sshKey=%2Fhome%2Ffabric%2F.ssh%2Fid_rsa.pub\n",
      "2022-02-17 00:45:06,152 WARNING Retrying (Retry(total=2, connect=None, read=None, redirect=None, status=None)) after connection broken by 'NewConnectionError('<urllib3.connection.HTTPSConnection object at 0x7fe8544352b0>: Failed to establish a new connection: [Errno 101] Network is unreachable')': //slices/create?sliceName=jiabhi_slice2&sshKey=%2Fhome%2Ffabric%2F.ssh%2Fid_rsa.pub\n",
      "2022-02-17 00:45:06,157 WARNING Retrying (Retry(total=1, connect=None, read=None, redirect=None, status=None)) after connection broken by 'NewConnectionError('<urllib3.connection.HTTPSConnection object at 0x7fe854435580>: Failed to establish a new connection: [Errno 101] Network is unreachable')': //slices/create?sliceName=jiabhi_slice2&sshKey=%2Fhome%2Ffabric%2F.ssh%2Fid_rsa.pub\n",
      "2022-02-17 00:45:06,157 WARNING Retrying (Retry(total=1, connect=None, read=None, redirect=None, status=None)) after connection broken by 'NewConnectionError('<urllib3.connection.HTTPSConnection object at 0x7fe854435580>: Failed to establish a new connection: [Errno 101] Network is unreachable')': //slices/create?sliceName=jiabhi_slice2&sshKey=%2Fhome%2Ffabric%2F.ssh%2Fid_rsa.pub\n",
      "2022-02-17 00:45:06,162 WARNING Retrying (Retry(total=0, connect=None, read=None, redirect=None, status=None)) after connection broken by 'NewConnectionError('<urllib3.connection.HTTPSConnection object at 0x7fe8544354c0>: Failed to establish a new connection: [Errno 101] Network is unreachable')': //slices/create?sliceName=jiabhi_slice2&sshKey=%2Fhome%2Ffabric%2F.ssh%2Fid_rsa.pub\n",
      "2022-02-17 00:45:06,162 WARNING Retrying (Retry(total=0, connect=None, read=None, redirect=None, status=None)) after connection broken by 'NewConnectionError('<urllib3.connection.HTTPSConnection object at 0x7fe8544354c0>: Failed to establish a new connection: [Errno 101] Network is unreachable')': //slices/create?sliceName=jiabhi_slice2&sshKey=%2Fhome%2Ffabric%2F.ssh%2Fid_rsa.pub\n",
      "2022-02-17 00:45:06,169 WARNING Retrying (Retry(total=2, connect=None, read=None, redirect=None, status=None)) after connection broken by 'NewConnectionError('<urllib3.connection.HTTPSConnection object at 0x7fe85442d850>: Failed to establish a new connection: [Errno 101] Network is unreachable')': //slices/create?sliceName=jiabhi_slice22&sshKey=%2Fhome%2Ffabric%2F.ssh%2Fid_rsa.pub\n",
      "2022-02-17 00:45:06,169 WARNING Retrying (Retry(total=2, connect=None, read=None, redirect=None, status=None)) after connection broken by 'NewConnectionError('<urllib3.connection.HTTPSConnection object at 0x7fe85442d850>: Failed to establish a new connection: [Errno 101] Network is unreachable')': //slices/create?sliceName=jiabhi_slice22&sshKey=%2Fhome%2Ffabric%2F.ssh%2Fid_rsa.pub\n",
      "2022-02-17 00:45:06,173 WARNING Retrying (Retry(total=1, connect=None, read=None, redirect=None, status=None)) after connection broken by 'NewConnectionError('<urllib3.connection.HTTPSConnection object at 0x7fe85442df10>: Failed to establish a new connection: [Errno 101] Network is unreachable')': //slices/create?sliceName=jiabhi_slice22&sshKey=%2Fhome%2Ffabric%2F.ssh%2Fid_rsa.pub\n",
      "2022-02-17 00:45:06,173 WARNING Retrying (Retry(total=1, connect=None, read=None, redirect=None, status=None)) after connection broken by 'NewConnectionError('<urllib3.connection.HTTPSConnection object at 0x7fe85442df10>: Failed to establish a new connection: [Errno 101] Network is unreachable')': //slices/create?sliceName=jiabhi_slice22&sshKey=%2Fhome%2Ffabric%2F.ssh%2Fid_rsa.pub\n"
     ]
    },
    {
     "name": "stdout",
     "output_type": "stream",
     "text": [
      "{'capacities': '{ core: 4 , ram: 8 G, disk: 100 G}', 'image_ref': 'default_centos_8', 'image_type': 'qcow2', 'name': 'node1', 'site': 'MAX', 'type': 'VM'}\n",
      "{'capacities': '{ core: 4 , ram: 8 G, disk: 100 G}', 'image_ref': 'default_centos_8', 'image_type': 'qcow2', 'name': 'node2', 'site': 'MAX', 'type': 'VM'}\n",
      "Failure: HTTPSConnectionPool(host='orchestrator.fabric-testbed.net', port=443): Max retries exceeded with url: //slices/create?sliceName=jiabhi_slice2&sshKey=%2Fhome%2Ffabric%2F.ssh%2Fid_rsa.pub (Caused by NewConnectionError('<urllib3.connection.HTTPSConnection object at 0x7fe8544869a0>: Failed to establish a new connection: [Errno 101] Network is unreachable'))\n",
      "{'capacities': '{ core: 4 , ram: 16 G, disk: 200 G}', 'image_ref': 'default_centos_8', 'image_type': 'qcow2', 'name': 'node1', 'site': 'MAX', 'type': 'VM'}\n",
      "{'capacities': '{ core: 4 , ram: 16 G, disk: 200 G}', 'image_ref': 'default_centos_8', 'image_type': 'qcow2', 'name': 'node2', 'site': 'MAX', 'type': 'VM'}\n"
     ]
    },
    {
     "name": "stderr",
     "output_type": "stream",
     "text": [
      "2022-02-17 00:45:07,177 WARNING Retrying (Retry(total=0, connect=None, read=None, redirect=None, status=None)) after connection broken by 'NewConnectionError('<urllib3.connection.HTTPSConnection object at 0x7fe85442dc40>: Failed to establish a new connection: [Errno 101] Network is unreachable')': //slices/create?sliceName=jiabhi_slice22&sshKey=%2Fhome%2Ffabric%2F.ssh%2Fid_rsa.pub\n",
      "2022-02-17 00:45:07,177 WARNING Retrying (Retry(total=0, connect=None, read=None, redirect=None, status=None)) after connection broken by 'NewConnectionError('<urllib3.connection.HTTPSConnection object at 0x7fe85442dc40>: Failed to establish a new connection: [Errno 101] Network is unreachable')': //slices/create?sliceName=jiabhi_slice22&sshKey=%2Fhome%2Ffabric%2F.ssh%2Fid_rsa.pub\n"
     ]
    },
    {
     "name": "stdout",
     "output_type": "stream",
     "text": [
      "Failure: HTTPSConnectionPool(host='orchestrator.fabric-testbed.net', port=443): Max retries exceeded with url: //slices/create?sliceName=jiabhi_slice22&sshKey=%2Fhome%2Ffabric%2F.ssh%2Fid_rsa.pub (Caused by NewConnectionError('<urllib3.connection.HTTPSConnection object at 0x7fe85442da30>: Failed to establish a new connection: [Errno 101] Network is unreachable'))\n",
      "{'capacities': '{ core: 2 , ram: 16 G, disk: 100 G}', 'image_ref': 'default_centos_8', 'image_type': 'qcow2', 'name': 'node1', 'site': 'MAX', 'type': 'VM'}\n",
      "{'capacities': '{ core: 2 , ram: 16 G, disk: 100 G}', 'image_ref': 'default_centos_8', 'image_type': 'qcow2', 'name': 'node2', 'site': 'MAX', 'type': 'VM'}\n"
     ]
    },
    {
     "name": "stderr",
     "output_type": "stream",
     "text": [
      "2022-02-17 00:45:09,195 WARNING Retrying (Retry(total=2, connect=None, read=None, redirect=None, status=None)) after connection broken by 'NewConnectionError('<urllib3.connection.HTTPSConnection object at 0x7fe854425eb0>: Failed to establish a new connection: [Errno 101] Network is unreachable')': //slices/create?sliceName=jiabhi_slice222&sshKey=%2Fhome%2Ffabric%2F.ssh%2Fid_rsa.pub\n",
      "2022-02-17 00:45:09,195 WARNING Retrying (Retry(total=2, connect=None, read=None, redirect=None, status=None)) after connection broken by 'NewConnectionError('<urllib3.connection.HTTPSConnection object at 0x7fe854425eb0>: Failed to establish a new connection: [Errno 101] Network is unreachable')': //slices/create?sliceName=jiabhi_slice222&sshKey=%2Fhome%2Ffabric%2F.ssh%2Fid_rsa.pub\n",
      "2022-02-17 00:45:10,203 WARNING Retrying (Retry(total=1, connect=None, read=None, redirect=None, status=None)) after connection broken by 'NewConnectionError('<urllib3.connection.HTTPSConnection object at 0x7fe85442dd90>: Failed to establish a new connection: [Errno 101] Network is unreachable')': //slices/create?sliceName=jiabhi_slice222&sshKey=%2Fhome%2Ffabric%2F.ssh%2Fid_rsa.pub\n",
      "2022-02-17 00:45:10,203 WARNING Retrying (Retry(total=1, connect=None, read=None, redirect=None, status=None)) after connection broken by 'NewConnectionError('<urllib3.connection.HTTPSConnection object at 0x7fe85442dd90>: Failed to establish a new connection: [Errno 101] Network is unreachable')': //slices/create?sliceName=jiabhi_slice222&sshKey=%2Fhome%2Ffabric%2F.ssh%2Fid_rsa.pub\n",
      "2022-02-17 00:45:11,209 WARNING Retrying (Retry(total=0, connect=None, read=None, redirect=None, status=None)) after connection broken by 'NewConnectionError('<urllib3.connection.HTTPSConnection object at 0x7fe8544257c0>: Failed to establish a new connection: [Errno 101] Network is unreachable')': //slices/create?sliceName=jiabhi_slice222&sshKey=%2Fhome%2Ffabric%2F.ssh%2Fid_rsa.pub\n",
      "2022-02-17 00:45:11,209 WARNING Retrying (Retry(total=0, connect=None, read=None, redirect=None, status=None)) after connection broken by 'NewConnectionError('<urllib3.connection.HTTPSConnection object at 0x7fe8544257c0>: Failed to establish a new connection: [Errno 101] Network is unreachable')': //slices/create?sliceName=jiabhi_slice222&sshKey=%2Fhome%2Ffabric%2F.ssh%2Fid_rsa.pub\n"
     ]
    },
    {
     "name": "stdout",
     "output_type": "stream",
     "text": [
      "Failure: HTTPSConnectionPool(host='orchestrator.fabric-testbed.net', port=443): Max retries exceeded with url: //slices/create?sliceName=jiabhi_slice222&sshKey=%2Fhome%2Ffabric%2F.ssh%2Fid_rsa.pub (Caused by NewConnectionError('<urllib3.connection.HTTPSConnection object at 0x7fe8544252e0>: Failed to establish a new connection: [Errno 101] Network is unreachable'))\n",
      "{'capacities': '{ core: 2 , ram: 16 G, disk: 200 G}', 'image_ref': 'default_centos_8', 'image_type': 'qcow2', 'name': 'node1', 'site': 'MAX', 'type': 'VM'}\n",
      "{'capacities': '{ core: 2 , ram: 16 G, disk: 200 G}', 'image_ref': 'default_centos_8', 'image_type': 'qcow2', 'name': 'node2', 'site': 'MAX', 'type': 'VM'}\n"
     ]
    },
    {
     "name": "stderr",
     "output_type": "stream",
     "text": [
      "2022-02-17 00:45:13,227 WARNING Retrying (Retry(total=2, connect=None, read=None, redirect=None, status=None)) after connection broken by 'NewConnectionError('<urllib3.connection.HTTPSConnection object at 0x7fe8544256a0>: Failed to establish a new connection: [Errno 101] Network is unreachable')': //slices/create?sliceName=jiabhi_slice2222&sshKey=%2Fhome%2Ffabric%2F.ssh%2Fid_rsa.pub\n",
      "2022-02-17 00:45:13,227 WARNING Retrying (Retry(total=2, connect=None, read=None, redirect=None, status=None)) after connection broken by 'NewConnectionError('<urllib3.connection.HTTPSConnection object at 0x7fe8544256a0>: Failed to establish a new connection: [Errno 101] Network is unreachable')': //slices/create?sliceName=jiabhi_slice2222&sshKey=%2Fhome%2Ffabric%2F.ssh%2Fid_rsa.pub\n",
      "2022-02-17 00:45:14,241 WARNING Retrying (Retry(total=1, connect=None, read=None, redirect=None, status=None)) after connection broken by 'NewConnectionError('<urllib3.connection.HTTPSConnection object at 0x7fe854425850>: Failed to establish a new connection: [Errno 101] Network is unreachable')': //slices/create?sliceName=jiabhi_slice2222&sshKey=%2Fhome%2Ffabric%2F.ssh%2Fid_rsa.pub\n",
      "2022-02-17 00:45:14,241 WARNING Retrying (Retry(total=1, connect=None, read=None, redirect=None, status=None)) after connection broken by 'NewConnectionError('<urllib3.connection.HTTPSConnection object at 0x7fe854425850>: Failed to establish a new connection: [Errno 101] Network is unreachable')': //slices/create?sliceName=jiabhi_slice2222&sshKey=%2Fhome%2Ffabric%2F.ssh%2Fid_rsa.pub\n",
      "2022-02-17 00:45:15,249 WARNING Retrying (Retry(total=0, connect=None, read=None, redirect=None, status=None)) after connection broken by 'NewConnectionError('<urllib3.connection.HTTPSConnection object at 0x7fe8544253a0>: Failed to establish a new connection: [Errno 101] Network is unreachable')': //slices/create?sliceName=jiabhi_slice2222&sshKey=%2Fhome%2Ffabric%2F.ssh%2Fid_rsa.pub\n",
      "2022-02-17 00:45:15,249 WARNING Retrying (Retry(total=0, connect=None, read=None, redirect=None, status=None)) after connection broken by 'NewConnectionError('<urllib3.connection.HTTPSConnection object at 0x7fe8544253a0>: Failed to establish a new connection: [Errno 101] Network is unreachable')': //slices/create?sliceName=jiabhi_slice2222&sshKey=%2Fhome%2Ffabric%2F.ssh%2Fid_rsa.pub\n"
     ]
    },
    {
     "name": "stdout",
     "output_type": "stream",
     "text": [
      "Failure: HTTPSConnectionPool(host='orchestrator.fabric-testbed.net', port=443): Max retries exceeded with url: //slices/create?sliceName=jiabhi_slice2222&sshKey=%2Fhome%2Ffabric%2F.ssh%2Fid_rsa.pub (Caused by NewConnectionError('<urllib3.connection.HTTPSConnection object at 0x7fe854425e50>: Failed to establish a new connection: [Errno 101] Network is unreachable'))\n",
      "{'capacities': '{ core: 2 , ram: 8 G, disk: 100 G}', 'image_ref': 'default_centos_8', 'image_type': 'qcow2', 'name': 'node1', 'site': 'MAX', 'type': 'VM'}\n",
      "{'capacities': '{ core: 2 , ram: 8 G, disk: 100 G}', 'image_ref': 'default_centos_8', 'image_type': 'qcow2', 'name': 'node2', 'site': 'MAX', 'type': 'VM'}\n"
     ]
    },
    {
     "name": "stderr",
     "output_type": "stream",
     "text": [
      "2022-02-17 00:45:17,265 WARNING Retrying (Retry(total=2, connect=None, read=None, redirect=None, status=None)) after connection broken by 'NewConnectionError('<urllib3.connection.HTTPSConnection object at 0x7fe854425d60>: Failed to establish a new connection: [Errno 101] Network is unreachable')': //slices/create?sliceName=jiabhi_slice22222&sshKey=%2Fhome%2Ffabric%2F.ssh%2Fid_rsa.pub\n",
      "2022-02-17 00:45:17,265 WARNING Retrying (Retry(total=2, connect=None, read=None, redirect=None, status=None)) after connection broken by 'NewConnectionError('<urllib3.connection.HTTPSConnection object at 0x7fe854425d60>: Failed to establish a new connection: [Errno 101] Network is unreachable')': //slices/create?sliceName=jiabhi_slice22222&sshKey=%2Fhome%2Ffabric%2F.ssh%2Fid_rsa.pub\n",
      "2022-02-17 00:45:18,275 WARNING Retrying (Retry(total=1, connect=None, read=None, redirect=None, status=None)) after connection broken by 'NewConnectionError('<urllib3.connection.HTTPSConnection object at 0x7fe85551e400>: Failed to establish a new connection: [Errno 101] Network is unreachable')': //slices/create?sliceName=jiabhi_slice22222&sshKey=%2Fhome%2Ffabric%2F.ssh%2Fid_rsa.pub\n",
      "2022-02-17 00:45:18,275 WARNING Retrying (Retry(total=1, connect=None, read=None, redirect=None, status=None)) after connection broken by 'NewConnectionError('<urllib3.connection.HTTPSConnection object at 0x7fe85551e400>: Failed to establish a new connection: [Errno 101] Network is unreachable')': //slices/create?sliceName=jiabhi_slice22222&sshKey=%2Fhome%2Ffabric%2F.ssh%2Fid_rsa.pub\n",
      "2022-02-17 00:45:19,283 WARNING Retrying (Retry(total=0, connect=None, read=None, redirect=None, status=None)) after connection broken by 'NewConnectionError('<urllib3.connection.HTTPSConnection object at 0x7fe8544257c0>: Failed to establish a new connection: [Errno 101] Network is unreachable')': //slices/create?sliceName=jiabhi_slice22222&sshKey=%2Fhome%2Ffabric%2F.ssh%2Fid_rsa.pub\n",
      "2022-02-17 00:45:19,283 WARNING Retrying (Retry(total=0, connect=None, read=None, redirect=None, status=None)) after connection broken by 'NewConnectionError('<urllib3.connection.HTTPSConnection object at 0x7fe8544257c0>: Failed to establish a new connection: [Errno 101] Network is unreachable')': //slices/create?sliceName=jiabhi_slice22222&sshKey=%2Fhome%2Ffabric%2F.ssh%2Fid_rsa.pub\n"
     ]
    },
    {
     "name": "stdout",
     "output_type": "stream",
     "text": [
      "Failure: HTTPSConnectionPool(host='orchestrator.fabric-testbed.net', port=443): Max retries exceeded with url: //slices/create?sliceName=jiabhi_slice22222&sshKey=%2Fhome%2Ffabric%2F.ssh%2Fid_rsa.pub (Caused by NewConnectionError('<urllib3.connection.HTTPSConnection object at 0x7fe854425eb0>: Failed to establish a new connection: [Errno 101] Network is unreachable'))\n",
      "{'capacities': '{ core: 4 , ram: 16 G, disk: 100 G}', 'image_ref': 'default_centos_8', 'image_type': 'qcow2', 'name': 'node1', 'site': 'MAX', 'type': 'VM'}\n",
      "{'capacities': '{ core: 4 , ram: 16 G, disk: 100 G}', 'image_ref': 'default_centos_8', 'image_type': 'qcow2', 'name': 'node2', 'site': 'MAX', 'type': 'VM'}\n"
     ]
    },
    {
     "name": "stderr",
     "output_type": "stream",
     "text": [
      "2022-02-17 00:45:21,301 WARNING Retrying (Retry(total=2, connect=None, read=None, redirect=None, status=None)) after connection broken by 'NewConnectionError('<urllib3.connection.HTTPSConnection object at 0x7fe85442d730>: Failed to establish a new connection: [Errno 101] Network is unreachable')': //slices/create?sliceName=jiabhi_slice222222&sshKey=%2Fhome%2Ffabric%2F.ssh%2Fid_rsa.pub\n",
      "2022-02-17 00:45:21,301 WARNING Retrying (Retry(total=2, connect=None, read=None, redirect=None, status=None)) after connection broken by 'NewConnectionError('<urllib3.connection.HTTPSConnection object at 0x7fe85442d730>: Failed to establish a new connection: [Errno 101] Network is unreachable')': //slices/create?sliceName=jiabhi_slice222222&sshKey=%2Fhome%2Ffabric%2F.ssh%2Fid_rsa.pub\n",
      "2022-02-17 00:45:22,309 WARNING Retrying (Retry(total=1, connect=None, read=None, redirect=None, status=None)) after connection broken by 'NewConnectionError('<urllib3.connection.HTTPSConnection object at 0x7fe854425640>: Failed to establish a new connection: [Errno 101] Network is unreachable')': //slices/create?sliceName=jiabhi_slice222222&sshKey=%2Fhome%2Ffabric%2F.ssh%2Fid_rsa.pub\n",
      "2022-02-17 00:45:22,309 WARNING Retrying (Retry(total=1, connect=None, read=None, redirect=None, status=None)) after connection broken by 'NewConnectionError('<urllib3.connection.HTTPSConnection object at 0x7fe854425640>: Failed to establish a new connection: [Errno 101] Network is unreachable')': //slices/create?sliceName=jiabhi_slice222222&sshKey=%2Fhome%2Ffabric%2F.ssh%2Fid_rsa.pub\n",
      "2022-02-17 00:45:23,317 WARNING Retrying (Retry(total=0, connect=None, read=None, redirect=None, status=None)) after connection broken by 'NewConnectionError('<urllib3.connection.HTTPSConnection object at 0x7fe85551e4f0>: Failed to establish a new connection: [Errno 101] Network is unreachable')': //slices/create?sliceName=jiabhi_slice222222&sshKey=%2Fhome%2Ffabric%2F.ssh%2Fid_rsa.pub\n",
      "2022-02-17 00:45:23,317 WARNING Retrying (Retry(total=0, connect=None, read=None, redirect=None, status=None)) after connection broken by 'NewConnectionError('<urllib3.connection.HTTPSConnection object at 0x7fe85551e4f0>: Failed to establish a new connection: [Errno 101] Network is unreachable')': //slices/create?sliceName=jiabhi_slice222222&sshKey=%2Fhome%2Ffabric%2F.ssh%2Fid_rsa.pub\n"
     ]
    },
    {
     "name": "stdout",
     "output_type": "stream",
     "text": [
      "Failure: HTTPSConnectionPool(host='orchestrator.fabric-testbed.net', port=443): Max retries exceeded with url: //slices/create?sliceName=jiabhi_slice222222&sshKey=%2Fhome%2Ffabric%2F.ssh%2Fid_rsa.pub (Caused by NewConnectionError('<urllib3.connection.HTTPSConnection object at 0x7fe85442d970>: Failed to establish a new connection: [Errno 101] Network is unreachable'))\n",
      "{'capacities': '{ core: 4 , ram: 16 G, disk: 100 G}', 'image_ref': 'default_centos_8', 'image_type': 'qcow2', 'name': 'node1', 'site': 'MAX', 'type': 'VM'}\n",
      "{'capacities': '{ core: 4 , ram: 16 G, disk: 100 G}', 'image_ref': 'default_centos_8', 'image_type': 'qcow2', 'name': 'node2', 'site': 'MAX', 'type': 'VM'}\n"
     ]
    },
    {
     "name": "stderr",
     "output_type": "stream",
     "text": [
      "2022-02-17 00:45:25,339 WARNING Retrying (Retry(total=2, connect=None, read=None, redirect=None, status=None)) after connection broken by 'NewConnectionError('<urllib3.connection.HTTPSConnection object at 0x7fe85442dca0>: Failed to establish a new connection: [Errno 101] Network is unreachable')': //slices/create?sliceName=jiabhi_slice2222222&sshKey=%2Fhome%2Ffabric%2F.ssh%2Fid_rsa.pub\n",
      "2022-02-17 00:45:25,339 WARNING Retrying (Retry(total=2, connect=None, read=None, redirect=None, status=None)) after connection broken by 'NewConnectionError('<urllib3.connection.HTTPSConnection object at 0x7fe85442dca0>: Failed to establish a new connection: [Errno 101] Network is unreachable')': //slices/create?sliceName=jiabhi_slice2222222&sshKey=%2Fhome%2Ffabric%2F.ssh%2Fid_rsa.pub\n",
      "2022-02-17 00:45:26,347 WARNING Retrying (Retry(total=1, connect=None, read=None, redirect=None, status=None)) after connection broken by 'NewConnectionError('<urllib3.connection.HTTPSConnection object at 0x7fe85442d3d0>: Failed to establish a new connection: [Errno 101] Network is unreachable')': //slices/create?sliceName=jiabhi_slice2222222&sshKey=%2Fhome%2Ffabric%2F.ssh%2Fid_rsa.pub\n",
      "2022-02-17 00:45:26,347 WARNING Retrying (Retry(total=1, connect=None, read=None, redirect=None, status=None)) after connection broken by 'NewConnectionError('<urllib3.connection.HTTPSConnection object at 0x7fe85442d3d0>: Failed to establish a new connection: [Errno 101] Network is unreachable')': //slices/create?sliceName=jiabhi_slice2222222&sshKey=%2Fhome%2Ffabric%2F.ssh%2Fid_rsa.pub\n",
      "2022-02-17 00:45:27,357 WARNING Retrying (Retry(total=0, connect=None, read=None, redirect=None, status=None)) after connection broken by 'NewConnectionError('<urllib3.connection.HTTPSConnection object at 0x7fe85442ddf0>: Failed to establish a new connection: [Errno 101] Network is unreachable')': //slices/create?sliceName=jiabhi_slice2222222&sshKey=%2Fhome%2Ffabric%2F.ssh%2Fid_rsa.pub\n",
      "2022-02-17 00:45:27,357 WARNING Retrying (Retry(total=0, connect=None, read=None, redirect=None, status=None)) after connection broken by 'NewConnectionError('<urllib3.connection.HTTPSConnection object at 0x7fe85442ddf0>: Failed to establish a new connection: [Errno 101] Network is unreachable')': //slices/create?sliceName=jiabhi_slice2222222&sshKey=%2Fhome%2Ffabric%2F.ssh%2Fid_rsa.pub\n"
     ]
    },
    {
     "name": "stdout",
     "output_type": "stream",
     "text": [
      "Failure: HTTPSConnectionPool(host='orchestrator.fabric-testbed.net', port=443): Max retries exceeded with url: //slices/create?sliceName=jiabhi_slice2222222&sshKey=%2Fhome%2Ffabric%2F.ssh%2Fid_rsa.pub (Caused by NewConnectionError('<urllib3.connection.HTTPSConnection object at 0x7fe8544351f0>: Failed to establish a new connection: [Errno 101] Network is unreachable'))\n",
      "{'capacities': '{ core: 2 , ram: 8 G, disk: 200 G}', 'image_ref': 'default_centos_8', 'image_type': 'qcow2', 'name': 'node1', 'site': 'MAX', 'type': 'VM'}\n",
      "{'capacities': '{ core: 2 , ram: 8 G, disk: 200 G}', 'image_ref': 'default_centos_8', 'image_type': 'qcow2', 'name': 'node2', 'site': 'MAX', 'type': 'VM'}\n"
     ]
    },
    {
     "name": "stderr",
     "output_type": "stream",
     "text": [
      "2022-02-17 00:45:29,373 WARNING Retrying (Retry(total=2, connect=None, read=None, redirect=None, status=None)) after connection broken by 'NewConnectionError('<urllib3.connection.HTTPSConnection object at 0x7fe8544890a0>: Failed to establish a new connection: [Errno 101] Network is unreachable')': //slices/create?sliceName=jiabhi_slice22222222&sshKey=%2Fhome%2Ffabric%2F.ssh%2Fid_rsa.pub\n",
      "2022-02-17 00:45:29,373 WARNING Retrying (Retry(total=2, connect=None, read=None, redirect=None, status=None)) after connection broken by 'NewConnectionError('<urllib3.connection.HTTPSConnection object at 0x7fe8544890a0>: Failed to establish a new connection: [Errno 101] Network is unreachable')': //slices/create?sliceName=jiabhi_slice22222222&sshKey=%2Fhome%2Ffabric%2F.ssh%2Fid_rsa.pub\n",
      "2022-02-17 00:45:30,381 WARNING Retrying (Retry(total=1, connect=None, read=None, redirect=None, status=None)) after connection broken by 'NewConnectionError('<urllib3.connection.HTTPSConnection object at 0x7fe8544354f0>: Failed to establish a new connection: [Errno 101] Network is unreachable')': //slices/create?sliceName=jiabhi_slice22222222&sshKey=%2Fhome%2Ffabric%2F.ssh%2Fid_rsa.pub\n",
      "2022-02-17 00:45:30,381 WARNING Retrying (Retry(total=1, connect=None, read=None, redirect=None, status=None)) after connection broken by 'NewConnectionError('<urllib3.connection.HTTPSConnection object at 0x7fe8544354f0>: Failed to establish a new connection: [Errno 101] Network is unreachable')': //slices/create?sliceName=jiabhi_slice22222222&sshKey=%2Fhome%2Ffabric%2F.ssh%2Fid_rsa.pub\n",
      "2022-02-17 00:45:31,389 WARNING Retrying (Retry(total=0, connect=None, read=None, redirect=None, status=None)) after connection broken by 'NewConnectionError('<urllib3.connection.HTTPSConnection object at 0x7fe85442dc40>: Failed to establish a new connection: [Errno 101] Network is unreachable')': //slices/create?sliceName=jiabhi_slice22222222&sshKey=%2Fhome%2Ffabric%2F.ssh%2Fid_rsa.pub\n",
      "2022-02-17 00:45:31,389 WARNING Retrying (Retry(total=0, connect=None, read=None, redirect=None, status=None)) after connection broken by 'NewConnectionError('<urllib3.connection.HTTPSConnection object at 0x7fe85442dc40>: Failed to establish a new connection: [Errno 101] Network is unreachable')': //slices/create?sliceName=jiabhi_slice22222222&sshKey=%2Fhome%2Ffabric%2F.ssh%2Fid_rsa.pub\n"
     ]
    },
    {
     "name": "stdout",
     "output_type": "stream",
     "text": [
      "Failure: HTTPSConnectionPool(host='orchestrator.fabric-testbed.net', port=443): Max retries exceeded with url: //slices/create?sliceName=jiabhi_slice22222222&sshKey=%2Fhome%2Ffabric%2F.ssh%2Fid_rsa.pub (Caused by NewConnectionError('<urllib3.connection.HTTPSConnection object at 0x7fe854489e80>: Failed to establish a new connection: [Errno 101] Network is unreachable'))\n"
     ]
    }
   ],
   "source": [
    "from fabrictestbed.slice_editor import ExperimentTopology, Capacities, ComponentType, ComponentModelType, ServiceType\n",
    "# Create topology\n",
    "experiment = ExperimentTopology()\n",
    "\n",
    "# Add node\n",
    "node = experiment.add_node(name=node_name, site=site)\n",
    "node2 = experiment.add_node(name=node_name2, site=site)\n",
    "\n",
    "# Set capacities\n",
    "cap = Capacities()\n",
    "# Set Properties\n",
    "for row in param_indexes:\n",
    "    param_vs_value = {}\n",
    "    for i in range(0, len(row)):\n",
    "#         print (i, row[i])\n",
    "        param_name = parameters[i]\n",
    "        param_vs_value[param_name] = param_values[i][row[i]]\n",
    "#         print(param_name, param_values[i][row[i]])\n",
    "    cap.set_fields(**param_vs_value)\n",
    "    node.set_properties(capacities=cap, image_type=image_type, image_ref=image_name)\n",
    "    node2.set_properties(capacities=cap, image_type=image_type, image_ref=image_name)\n",
    "    print(node)\n",
    "    print(node2)\n",
    "    # Generate Slice Graph\n",
    "    slice_graph = experiment.serialize()\n",
    "\n",
    "    # Request slice from Orchestrator\n",
    "    slice_name = slice_name + str(i)\n",
    "    return_status, slice_reservations = slice_manager.create(slice_name=slice_name, \n",
    "                                                             slice_graph=slice_graph, \n",
    "                                                             ssh_key=ssh_key_file_pub)\n",
    "\n",
    "    if return_status == Status.OK:\n",
    "        slice_id = slice_reservations[0].get_slice_id()\n",
    "        print(\"Submitted slice creation request. Slice ID: {}\".format(slice_id))\n",
    "    else:\n",
    "        print(f\"Failure: {slice_reservations}\")"
   ]
  },
  {
   "cell_type": "code",
   "execution_count": 5,
   "id": "f3698b29-64c0-490a-92fa-a4bfbc2ee2f6",
   "metadata": {},
   "outputs": [],
   "source": [
    "slice_manager = SliceManager(oc_host=orchestrator_host, cm_host=credmgr_host, project_name='all', scope='all')\n",
    "\n",
    "# Initialize the slice manager\n",
    "slice_manager.initialize()"
   ]
  },
  {
   "cell_type": "code",
   "execution_count": 28,
   "id": "836c6f2e-6a6e-4c3f-86db-602c8956f45f",
   "metadata": {},
   "outputs": [
    {
     "name": "stderr",
     "output_type": "stream",
     "text": [
      "2022-02-17 02:01:20,094 WARNING Retrying (Retry(total=2, connect=None, read=None, redirect=None, status=None)) after connection broken by 'NewConnectionError('<urllib3.connection.HTTPSConnection object at 0x7fe85442d580>: Failed to establish a new connection: [Errno 101] Network is unreachable')': //slices?states=StableError&states=StableOK&states=Nascent&states=Configuring&states=Closing\n",
      "2022-02-17 02:01:20,094 WARNING Retrying (Retry(total=2, connect=None, read=None, redirect=None, status=None)) after connection broken by 'NewConnectionError('<urllib3.connection.HTTPSConnection object at 0x7fe85442d580>: Failed to establish a new connection: [Errno 101] Network is unreachable')': //slices?states=StableError&states=StableOK&states=Nascent&states=Configuring&states=Closing\n",
      "2022-02-17 02:01:20,102 WARNING Retrying (Retry(total=1, connect=None, read=None, redirect=None, status=None)) after connection broken by 'NewConnectionError('<urllib3.connection.HTTPSConnection object at 0x7fe854489790>: Failed to establish a new connection: [Errno 101] Network is unreachable')': //slices?states=StableError&states=StableOK&states=Nascent&states=Configuring&states=Closing\n",
      "2022-02-17 02:01:20,102 WARNING Retrying (Retry(total=1, connect=None, read=None, redirect=None, status=None)) after connection broken by 'NewConnectionError('<urllib3.connection.HTTPSConnection object at 0x7fe854489790>: Failed to establish a new connection: [Errno 101] Network is unreachable')': //slices?states=StableError&states=StableOK&states=Nascent&states=Configuring&states=Closing\n",
      "2022-02-17 02:01:20,107 WARNING Retrying (Retry(total=0, connect=None, read=None, redirect=None, status=None)) after connection broken by 'NewConnectionError('<urllib3.connection.HTTPSConnection object at 0x7fe854489490>: Failed to establish a new connection: [Errno 101] Network is unreachable')': //slices?states=StableError&states=StableOK&states=Nascent&states=Configuring&states=Closing\n",
      "2022-02-17 02:01:20,107 WARNING Retrying (Retry(total=0, connect=None, read=None, redirect=None, status=None)) after connection broken by 'NewConnectionError('<urllib3.connection.HTTPSConnection object at 0x7fe854489490>: Failed to establish a new connection: [Errno 101] Network is unreachable')': //slices?states=StableError&states=StableOK&states=Nascent&states=Configuring&states=Closing\n"
     ]
    },
    {
     "name": "stdout",
     "output_type": "stream",
     "text": [
      "Failure: HTTPSConnectionPool(host='orchestrator.fabric-testbed.net', port=443): Max retries exceeded with url: //slices?states=StableError&states=StableOK&states=Nascent&states=Configuring&states=Closing (Caused by NewConnectionError('<urllib3.connection.HTTPSConnection object at 0x7fe8544351f0>: Failed to establish a new connection: [Errno 101] Network is unreachable'))\n"
     ]
    }
   ],
   "source": [
    "return_status, slices = slice_manager.slices(excludes=[SliceState.Dead])\n",
    "\n",
    "if return_status == Status.OK:\n",
    "    for slice in slices:\n",
    "        print(\"{}:\".format(slice.slice_name))\n",
    "        print(\"   ID         : {}\".format(slice.slice_name))\n",
    "        print(\"   State      : {}\".format(slice.slice_state))\n",
    "        print(\"   Lease End  : {}\".format(slice.lease_end))\n",
    "        print()\n",
    "else:\n",
    "    print(f\"Failure: {slices}\")"
   ]
  },
  {
   "cell_type": "code",
   "execution_count": null,
   "id": "09013140-6932-4316-a53b-5fb0c2bb635f",
   "metadata": {},
   "outputs": [],
   "source": []
  },
  {
   "cell_type": "code",
   "execution_count": null,
   "id": "85699fd3-3381-42c0-bdca-602a3c3031f7",
   "metadata": {},
   "outputs": [],
   "source": []
  }
 ],
 "metadata": {
  "kernelspec": {
   "display_name": "Python 3 (ipykernel)",
   "language": "python",
   "name": "python3"
  },
  "language_info": {
   "codemirror_mode": {
    "name": "ipython",
    "version": 3
   },
   "file_extension": ".py",
   "mimetype": "text/x-python",
   "name": "python",
   "nbconvert_exporter": "python",
   "pygments_lexer": "ipython3",
   "version": "3.9.7"
  }
 },
 "nbformat": 4,
 "nbformat_minor": 5
}
